{
  "cells": [
    {
      "cell_type": "code",
      "execution_count": null,
      "id": "19c10b88",
      "metadata": {
        "_cell_guid": "b1076dfc-b9ad-4769-8c92-a6c4dae69d19",
        "_uuid": "8f2839f25d086af736a60e9eeb907d3b93b6e0e5",
        "execution": {
          "iopub.execute_input": "2025-07-25T13:25:59.077023Z",
          "iopub.status.busy": "2025-07-25T13:25:59.076639Z",
          "iopub.status.idle": "2025-07-25T13:26:01.076135Z",
          "shell.execute_reply": "2025-07-25T13:26:01.074773Z"
        },
        "papermill": {
          "duration": 2.022874,
          "end_time": "2025-07-25T13:26:01.077863",
          "exception": false,
          "start_time": "2025-07-25T13:25:59.054989",
          "status": "completed"
        },
        "tags": [],
        "id": "19c10b88",
        "outputId": "42ea9d8b-1edb-4fb3-d59f-724bde84cbaf"
      },
      "outputs": [
        {
          "name": "stdout",
          "output_type": "stream",
          "text": [
            "/kaggle/input/engage-2-value-from-clicks-to-conversions/sample_submission.csv\n",
            "/kaggle/input/engage-2-value-from-clicks-to-conversions/train_data.csv\n",
            "/kaggle/input/engage-2-value-from-clicks-to-conversions/test_data.csv\n"
          ]
        }
      ],
      "source": [
        "# This Python 3 environment comes with many helpful analytics libraries installed\n",
        "# It is defined by the kaggle/python Docker image: https://github.com/kaggle/docker-python\n",
        "# For example, here's several helpful packages to load\n",
        "\n",
        "import numpy as np # linear algebra\n",
        "import pandas as pd # data processing, CSV file I/O (e.g. pd.read_csv)\n",
        "\n",
        "# Input data files are available in the read-only \"../input/\" directory\n",
        "# For example, running this (by clicking run or pressing Shift+Enter) will list all files under the input directory\n",
        "\n",
        "import os\n",
        "for dirname, _, filenames in os.walk('/kaggle/input'):\n",
        "    for filename in filenames:\n",
        "        print(os.path.join(dirname, filename))\n",
        "\n",
        "import warnings\n",
        "warnings.filterwarnings(\"ignore\")\n",
        "\n",
        "# You can write up to 20GB to the current directory (/kaggle/working/) that gets preserved as output when you create a version using \"Save & Run All\"\n",
        "# You can also write temporary files to /kaggle/temp/, but they won't be saved outside of the current session"
      ]
    },
    {
      "cell_type": "markdown",
      "id": "ebc59199",
      "metadata": {
        "papermill": {
          "duration": 0.018731,
          "end_time": "2025-07-25T13:26:01.116531",
          "exception": false,
          "start_time": "2025-07-25T13:26:01.097800",
          "status": "completed"
        },
        "tags": [],
        "id": "ebc59199"
      },
      "source": [
        "# **Project Objective**\n",
        "\n",
        "To develop machine learning model that predicts the **purchase value** of users by analyzing their **multi-session digital behavior**, enabling data-driven insights for customer value forecasting and business strategy."
      ]
    },
    {
      "cell_type": "markdown",
      "id": "f971a716",
      "metadata": {
        "papermill": {
          "duration": 0.019854,
          "end_time": "2025-07-25T13:26:01.155059",
          "exception": false,
          "start_time": "2025-07-25T13:26:01.135205",
          "status": "completed"
        },
        "tags": [],
        "id": "f971a716"
      },
      "source": [
        "# **1. Import Essential Libraries**"
      ]
    },
    {
      "cell_type": "code",
      "execution_count": null,
      "id": "8216f9e4",
      "metadata": {
        "execution": {
          "iopub.execute_input": "2025-07-25T13:26:01.197696Z",
          "iopub.status.busy": "2025-07-25T13:26:01.196864Z",
          "iopub.status.idle": "2025-07-25T13:26:04.267006Z",
          "shell.execute_reply": "2025-07-25T13:26:04.265962Z"
        },
        "papermill": {
          "duration": 3.093058,
          "end_time": "2025-07-25T13:26:04.268740",
          "exception": false,
          "start_time": "2025-07-25T13:26:01.175682",
          "status": "completed"
        },
        "tags": [],
        "id": "8216f9e4"
      },
      "outputs": [],
      "source": [
        "import matplotlib.pyplot as plt\n",
        "import seaborn as sns\n",
        "\n",
        "from sklearn.model_selection import train_test_split\n",
        "from sklearn.compose import ColumnTransformer\n",
        "from sklearn.pipeline import Pipeline\n",
        "from sklearn.preprocessing import OneHotEncoder, StandardScaler, LabelEncoder, PolynomialFeatures\n",
        "from sklearn.impute import SimpleImputer\n",
        "from sklearn.metrics import r2_score\n",
        "from sklearn.model_selection import RandomizedSearchCV\n",
        "from scipy.stats import uniform, randint\n",
        "\n",
        "from sklearn.dummy import DummyRegressor\n",
        "from sklearn.linear_model import LinearRegression\n",
        "from sklearn.ensemble import RandomForestRegressor\n",
        "from xgboost import XGBRegressor"
      ]
    },
    {
      "cell_type": "markdown",
      "id": "56c60497",
      "metadata": {
        "papermill": {
          "duration": 0.018173,
          "end_time": "2025-07-25T13:26:04.305698",
          "exception": false,
          "start_time": "2025-07-25T13:26:04.287525",
          "status": "completed"
        },
        "tags": [],
        "id": "56c60497"
      },
      "source": [
        "# **2. Data Loading**\n",
        "\n",
        "**Observations:**\n",
        "\n",
        "- Train Dataset contains `116023 Rows`, `52 Columns/Features`.\n",
        "- Test Dataset contains `29006 Rows`, `51 Columns/Features`.\n",
        "- `purchaseValue` is the **Target Feature**.\n",
        "- Train Dataset conatins the following data types `object`, `float64`, `int64`, `bool`."
      ]
    },
    {
      "cell_type": "code",
      "execution_count": null,
      "id": "964c7984",
      "metadata": {
        "execution": {
          "iopub.execute_input": "2025-07-25T13:26:04.410619Z",
          "iopub.status.busy": "2025-07-25T13:26:04.409728Z",
          "iopub.status.idle": "2025-07-25T13:26:07.717882Z",
          "shell.execute_reply": "2025-07-25T13:26:07.716933Z"
        },
        "papermill": {
          "duration": 3.32997,
          "end_time": "2025-07-25T13:26:07.719975",
          "exception": false,
          "start_time": "2025-07-25T13:26:04.390005",
          "status": "completed"
        },
        "tags": [],
        "id": "964c7984"
      },
      "outputs": [],
      "source": [
        "train_df = pd.read_csv(\"/kaggle/input/engage-2-value-from-clicks-to-conversions/train_data.csv\")\n",
        "test_df = pd.read_csv(\"/kaggle/input/engage-2-value-from-clicks-to-conversions/test_data.csv\")"
      ]
    },
    {
      "cell_type": "code",
      "execution_count": null,
      "id": "5af3327d",
      "metadata": {
        "execution": {
          "iopub.execute_input": "2025-07-25T13:26:07.759516Z",
          "iopub.status.busy": "2025-07-25T13:26:07.759186Z",
          "iopub.status.idle": "2025-07-25T13:26:07.805163Z",
          "shell.execute_reply": "2025-07-25T13:26:07.804197Z"
        },
        "papermill": {
          "duration": 0.067268,
          "end_time": "2025-07-25T13:26:07.806807",
          "exception": false,
          "start_time": "2025-07-25T13:26:07.739539",
          "status": "completed"
        },
        "tags": [],
        "id": "5af3327d"
      },
      "outputs": [],
      "source": [
        "train_copy = train_df.copy()"
      ]
    },
    {
      "cell_type": "code",
      "execution_count": null,
      "id": "c98c4940",
      "metadata": {
        "execution": {
          "iopub.execute_input": "2025-07-25T13:26:07.846062Z",
          "iopub.status.busy": "2025-07-25T13:26:07.845680Z",
          "iopub.status.idle": "2025-07-25T13:26:07.850887Z",
          "shell.execute_reply": "2025-07-25T13:26:07.849886Z"
        },
        "papermill": {
          "duration": 0.026791,
          "end_time": "2025-07-25T13:26:07.852440",
          "exception": false,
          "start_time": "2025-07-25T13:26:07.825649",
          "status": "completed"
        },
        "tags": [],
        "id": "c98c4940",
        "outputId": "c4aa5209-4b25-4700-db34-1c5514e932f5"
      },
      "outputs": [
        {
          "name": "stdout",
          "output_type": "stream",
          "text": [
            "Shape of Train Dataset: (116023, 52)\n",
            "Shape of Test Dataset: (29006, 51)\n"
          ]
        }
      ],
      "source": [
        "print(f'Shape of Train Dataset: {train_df.shape}')\n",
        "print(f'Shape of Test Dataset: {test_df.shape}')"
      ]
    },
    {
      "cell_type": "code",
      "execution_count": null,
      "id": "4d72c477",
      "metadata": {
        "execution": {
          "iopub.execute_input": "2025-07-25T13:26:07.892061Z",
          "iopub.status.busy": "2025-07-25T13:26:07.891698Z",
          "iopub.status.idle": "2025-07-25T13:26:07.935292Z",
          "shell.execute_reply": "2025-07-25T13:26:07.934232Z"
        },
        "papermill": {
          "duration": 0.064782,
          "end_time": "2025-07-25T13:26:07.936857",
          "exception": false,
          "start_time": "2025-07-25T13:26:07.872075",
          "status": "completed"
        },
        "tags": [],
        "id": "4d72c477",
        "outputId": "8254a64b-2fab-46d1-d6bf-c7f0c238fecc"
      },
      "outputs": [
        {
          "data": {
            "text/html": [
              "<div>\n",
              "<style scoped>\n",
              "    .dataframe tbody tr th:only-of-type {\n",
              "        vertical-align: middle;\n",
              "    }\n",
              "\n",
              "    .dataframe tbody tr th {\n",
              "        vertical-align: top;\n",
              "    }\n",
              "\n",
              "    .dataframe thead th {\n",
              "        text-align: right;\n",
              "    }\n",
              "</style>\n",
              "<table border=\"1\" class=\"dataframe\">\n",
              "  <thead>\n",
              "    <tr style=\"text-align: right;\">\n",
              "      <th></th>\n",
              "      <th>trafficSource.isTrueDirect</th>\n",
              "      <th>purchaseValue</th>\n",
              "      <th>browser</th>\n",
              "      <th>device.screenResolution</th>\n",
              "      <th>trafficSource.adContent</th>\n",
              "      <th>trafficSource.keyword</th>\n",
              "      <th>screenSize</th>\n",
              "      <th>geoCluster</th>\n",
              "      <th>trafficSource.adwordsClickInfo.slot</th>\n",
              "      <th>device.mobileDeviceBranding</th>\n",
              "      <th>...</th>\n",
              "      <th>device.language</th>\n",
              "      <th>deviceType</th>\n",
              "      <th>userChannel</th>\n",
              "      <th>device.browserVersion</th>\n",
              "      <th>totalHits</th>\n",
              "      <th>device.screenColors</th>\n",
              "      <th>sessionStart</th>\n",
              "      <th>geoNetwork.continent</th>\n",
              "      <th>device.isMobile</th>\n",
              "      <th>new_visits</th>\n",
              "    </tr>\n",
              "  </thead>\n",
              "  <tbody>\n",
              "    <tr>\n",
              "      <th>0</th>\n",
              "      <td>NaN</td>\n",
              "      <td>0.0</td>\n",
              "      <td>Edge</td>\n",
              "      <td>not available in demo dataset</td>\n",
              "      <td>NaN</td>\n",
              "      <td>NaN</td>\n",
              "      <td>medium</td>\n",
              "      <td>Region_2</td>\n",
              "      <td>NaN</td>\n",
              "      <td>not available in demo dataset</td>\n",
              "      <td>...</td>\n",
              "      <td>not available in demo dataset</td>\n",
              "      <td>desktop</td>\n",
              "      <td>Social</td>\n",
              "      <td>not available in demo dataset</td>\n",
              "      <td>1</td>\n",
              "      <td>not available in demo dataset</td>\n",
              "      <td>1500100799</td>\n",
              "      <td>Americas</td>\n",
              "      <td>False</td>\n",
              "      <td>1.0</td>\n",
              "    </tr>\n",
              "    <tr>\n",
              "      <th>1</th>\n",
              "      <td>True</td>\n",
              "      <td>0.0</td>\n",
              "      <td>Chrome</td>\n",
              "      <td>not available in demo dataset</td>\n",
              "      <td>NaN</td>\n",
              "      <td>NaN</td>\n",
              "      <td>medium</td>\n",
              "      <td>Region_3</td>\n",
              "      <td>NaN</td>\n",
              "      <td>not available in demo dataset</td>\n",
              "      <td>...</td>\n",
              "      <td>not available in demo dataset</td>\n",
              "      <td>desktop</td>\n",
              "      <td>Direct</td>\n",
              "      <td>not available in demo dataset</td>\n",
              "      <td>1</td>\n",
              "      <td>not available in demo dataset</td>\n",
              "      <td>1495262065</td>\n",
              "      <td>Americas</td>\n",
              "      <td>False</td>\n",
              "      <td>1.0</td>\n",
              "    </tr>\n",
              "    <tr>\n",
              "      <th>2</th>\n",
              "      <td>True</td>\n",
              "      <td>0.0</td>\n",
              "      <td>Chrome</td>\n",
              "      <td>not available in demo dataset</td>\n",
              "      <td>NaN</td>\n",
              "      <td>(not provided)</td>\n",
              "      <td>medium</td>\n",
              "      <td>Region_2</td>\n",
              "      <td>NaN</td>\n",
              "      <td>not available in demo dataset</td>\n",
              "      <td>...</td>\n",
              "      <td>not available in demo dataset</td>\n",
              "      <td>desktop</td>\n",
              "      <td>Organic Search</td>\n",
              "      <td>not available in demo dataset</td>\n",
              "      <td>6</td>\n",
              "      <td>not available in demo dataset</td>\n",
              "      <td>1508510328</td>\n",
              "      <td>Europe</td>\n",
              "      <td>False</td>\n",
              "      <td>NaN</td>\n",
              "    </tr>\n",
              "    <tr>\n",
              "      <th>3</th>\n",
              "      <td>NaN</td>\n",
              "      <td>0.0</td>\n",
              "      <td>Internet Explorer</td>\n",
              "      <td>not available in demo dataset</td>\n",
              "      <td>NaN</td>\n",
              "      <td>NaN</td>\n",
              "      <td>medium</td>\n",
              "      <td>Region_4</td>\n",
              "      <td>NaN</td>\n",
              "      <td>not available in demo dataset</td>\n",
              "      <td>...</td>\n",
              "      <td>not available in demo dataset</td>\n",
              "      <td>desktop</td>\n",
              "      <td>Social</td>\n",
              "      <td>not available in demo dataset</td>\n",
              "      <td>1</td>\n",
              "      <td>not available in demo dataset</td>\n",
              "      <td>1483431838</td>\n",
              "      <td>Asia</td>\n",
              "      <td>False</td>\n",
              "      <td>1.0</td>\n",
              "    </tr>\n",
              "    <tr>\n",
              "      <th>4</th>\n",
              "      <td>True</td>\n",
              "      <td>88950000.0</td>\n",
              "      <td>Chrome</td>\n",
              "      <td>not available in demo dataset</td>\n",
              "      <td>NaN</td>\n",
              "      <td>NaN</td>\n",
              "      <td>medium</td>\n",
              "      <td>Region_3</td>\n",
              "      <td>NaN</td>\n",
              "      <td>not available in demo dataset</td>\n",
              "      <td>...</td>\n",
              "      <td>not available in demo dataset</td>\n",
              "      <td>desktop</td>\n",
              "      <td>Direct</td>\n",
              "      <td>not available in demo dataset</td>\n",
              "      <td>66</td>\n",
              "      <td>not available in demo dataset</td>\n",
              "      <td>1475804633</td>\n",
              "      <td>Americas</td>\n",
              "      <td>False</td>\n",
              "      <td>1.0</td>\n",
              "    </tr>\n",
              "    <tr>\n",
              "      <th>5</th>\n",
              "      <td>True</td>\n",
              "      <td>28000000.0</td>\n",
              "      <td>Chrome</td>\n",
              "      <td>not available in demo dataset</td>\n",
              "      <td>NaN</td>\n",
              "      <td>NaN</td>\n",
              "      <td>medium</td>\n",
              "      <td>Region_4</td>\n",
              "      <td>NaN</td>\n",
              "      <td>not available in demo dataset</td>\n",
              "      <td>...</td>\n",
              "      <td>not available in demo dataset</td>\n",
              "      <td>desktop</td>\n",
              "      <td>Referral</td>\n",
              "      <td>not available in demo dataset</td>\n",
              "      <td>48</td>\n",
              "      <td>not available in demo dataset</td>\n",
              "      <td>1505506252</td>\n",
              "      <td>Americas</td>\n",
              "      <td>False</td>\n",
              "      <td>NaN</td>\n",
              "    </tr>\n",
              "    <tr>\n",
              "      <th>6</th>\n",
              "      <td>NaN</td>\n",
              "      <td>80510000.0</td>\n",
              "      <td>Chrome</td>\n",
              "      <td>not available in demo dataset</td>\n",
              "      <td>NaN</td>\n",
              "      <td>NaN</td>\n",
              "      <td>medium</td>\n",
              "      <td>Region_2</td>\n",
              "      <td>NaN</td>\n",
              "      <td>not available in demo dataset</td>\n",
              "      <td>...</td>\n",
              "      <td>not available in demo dataset</td>\n",
              "      <td>desktop</td>\n",
              "      <td>Referral</td>\n",
              "      <td>not available in demo dataset</td>\n",
              "      <td>17</td>\n",
              "      <td>not available in demo dataset</td>\n",
              "      <td>1472053897</td>\n",
              "      <td>Americas</td>\n",
              "      <td>False</td>\n",
              "      <td>1.0</td>\n",
              "    </tr>\n",
              "    <tr>\n",
              "      <th>7</th>\n",
              "      <td>NaN</td>\n",
              "      <td>0.0</td>\n",
              "      <td>Chrome</td>\n",
              "      <td>not available in demo dataset</td>\n",
              "      <td>NaN</td>\n",
              "      <td>(not provided)</td>\n",
              "      <td>medium</td>\n",
              "      <td>Region_5</td>\n",
              "      <td>NaN</td>\n",
              "      <td>not available in demo dataset</td>\n",
              "      <td>...</td>\n",
              "      <td>not available in demo dataset</td>\n",
              "      <td>mobile</td>\n",
              "      <td>Organic Search</td>\n",
              "      <td>not available in demo dataset</td>\n",
              "      <td>1</td>\n",
              "      <td>not available in demo dataset</td>\n",
              "      <td>1490756441</td>\n",
              "      <td>Asia</td>\n",
              "      <td>True</td>\n",
              "      <td>1.0</td>\n",
              "    </tr>\n",
              "    <tr>\n",
              "      <th>8</th>\n",
              "      <td>True</td>\n",
              "      <td>0.0</td>\n",
              "      <td>Chrome</td>\n",
              "      <td>not available in demo dataset</td>\n",
              "      <td>NaN</td>\n",
              "      <td>(not provided)</td>\n",
              "      <td>medium</td>\n",
              "      <td>Region_2</td>\n",
              "      <td>NaN</td>\n",
              "      <td>not available in demo dataset</td>\n",
              "      <td>...</td>\n",
              "      <td>not available in demo dataset</td>\n",
              "      <td>desktop</td>\n",
              "      <td>Organic Search</td>\n",
              "      <td>not available in demo dataset</td>\n",
              "      <td>4</td>\n",
              "      <td>not available in demo dataset</td>\n",
              "      <td>1495702257</td>\n",
              "      <td>Asia</td>\n",
              "      <td>False</td>\n",
              "      <td>NaN</td>\n",
              "    </tr>\n",
              "    <tr>\n",
              "      <th>9</th>\n",
              "      <td>NaN</td>\n",
              "      <td>0.0</td>\n",
              "      <td>Safari</td>\n",
              "      <td>not available in demo dataset</td>\n",
              "      <td>NaN</td>\n",
              "      <td>(not provided)</td>\n",
              "      <td>medium</td>\n",
              "      <td>Region_1</td>\n",
              "      <td>NaN</td>\n",
              "      <td>not available in demo dataset</td>\n",
              "      <td>...</td>\n",
              "      <td>not available in demo dataset</td>\n",
              "      <td>mobile</td>\n",
              "      <td>Organic Search</td>\n",
              "      <td>not available in demo dataset</td>\n",
              "      <td>1</td>\n",
              "      <td>not available in demo dataset</td>\n",
              "      <td>1500868868</td>\n",
              "      <td>Asia</td>\n",
              "      <td>True</td>\n",
              "      <td>1.0</td>\n",
              "    </tr>\n",
              "  </tbody>\n",
              "</table>\n",
              "<p>10 rows × 52 columns</p>\n",
              "</div>"
            ],
            "text/plain": [
              "  trafficSource.isTrueDirect  purchaseValue            browser  \\\n",
              "0                        NaN            0.0               Edge   \n",
              "1                       True            0.0             Chrome   \n",
              "2                       True            0.0             Chrome   \n",
              "3                        NaN            0.0  Internet Explorer   \n",
              "4                       True     88950000.0             Chrome   \n",
              "5                       True     28000000.0             Chrome   \n",
              "6                        NaN     80510000.0             Chrome   \n",
              "7                        NaN            0.0             Chrome   \n",
              "8                       True            0.0             Chrome   \n",
              "9                        NaN            0.0             Safari   \n",
              "\n",
              "         device.screenResolution trafficSource.adContent  \\\n",
              "0  not available in demo dataset                     NaN   \n",
              "1  not available in demo dataset                     NaN   \n",
              "2  not available in demo dataset                     NaN   \n",
              "3  not available in demo dataset                     NaN   \n",
              "4  not available in demo dataset                     NaN   \n",
              "5  not available in demo dataset                     NaN   \n",
              "6  not available in demo dataset                     NaN   \n",
              "7  not available in demo dataset                     NaN   \n",
              "8  not available in demo dataset                     NaN   \n",
              "9  not available in demo dataset                     NaN   \n",
              "\n",
              "  trafficSource.keyword screenSize geoCluster  \\\n",
              "0                   NaN     medium   Region_2   \n",
              "1                   NaN     medium   Region_3   \n",
              "2        (not provided)     medium   Region_2   \n",
              "3                   NaN     medium   Region_4   \n",
              "4                   NaN     medium   Region_3   \n",
              "5                   NaN     medium   Region_4   \n",
              "6                   NaN     medium   Region_2   \n",
              "7        (not provided)     medium   Region_5   \n",
              "8        (not provided)     medium   Region_2   \n",
              "9        (not provided)     medium   Region_1   \n",
              "\n",
              "  trafficSource.adwordsClickInfo.slot    device.mobileDeviceBranding  ...  \\\n",
              "0                                 NaN  not available in demo dataset  ...   \n",
              "1                                 NaN  not available in demo dataset  ...   \n",
              "2                                 NaN  not available in demo dataset  ...   \n",
              "3                                 NaN  not available in demo dataset  ...   \n",
              "4                                 NaN  not available in demo dataset  ...   \n",
              "5                                 NaN  not available in demo dataset  ...   \n",
              "6                                 NaN  not available in demo dataset  ...   \n",
              "7                                 NaN  not available in demo dataset  ...   \n",
              "8                                 NaN  not available in demo dataset  ...   \n",
              "9                                 NaN  not available in demo dataset  ...   \n",
              "\n",
              "                 device.language  deviceType     userChannel  \\\n",
              "0  not available in demo dataset     desktop          Social   \n",
              "1  not available in demo dataset     desktop          Direct   \n",
              "2  not available in demo dataset     desktop  Organic Search   \n",
              "3  not available in demo dataset     desktop          Social   \n",
              "4  not available in demo dataset     desktop          Direct   \n",
              "5  not available in demo dataset     desktop        Referral   \n",
              "6  not available in demo dataset     desktop        Referral   \n",
              "7  not available in demo dataset      mobile  Organic Search   \n",
              "8  not available in demo dataset     desktop  Organic Search   \n",
              "9  not available in demo dataset      mobile  Organic Search   \n",
              "\n",
              "           device.browserVersion totalHits            device.screenColors  \\\n",
              "0  not available in demo dataset         1  not available in demo dataset   \n",
              "1  not available in demo dataset         1  not available in demo dataset   \n",
              "2  not available in demo dataset         6  not available in demo dataset   \n",
              "3  not available in demo dataset         1  not available in demo dataset   \n",
              "4  not available in demo dataset        66  not available in demo dataset   \n",
              "5  not available in demo dataset        48  not available in demo dataset   \n",
              "6  not available in demo dataset        17  not available in demo dataset   \n",
              "7  not available in demo dataset         1  not available in demo dataset   \n",
              "8  not available in demo dataset         4  not available in demo dataset   \n",
              "9  not available in demo dataset         1  not available in demo dataset   \n",
              "\n",
              "  sessionStart  geoNetwork.continent device.isMobile new_visits  \n",
              "0   1500100799              Americas           False        1.0  \n",
              "1   1495262065              Americas           False        1.0  \n",
              "2   1508510328                Europe           False        NaN  \n",
              "3   1483431838                  Asia           False        1.0  \n",
              "4   1475804633              Americas           False        1.0  \n",
              "5   1505506252              Americas           False        NaN  \n",
              "6   1472053897              Americas           False        1.0  \n",
              "7   1490756441                  Asia            True        1.0  \n",
              "8   1495702257                  Asia           False        NaN  \n",
              "9   1500868868                  Asia            True        1.0  \n",
              "\n",
              "[10 rows x 52 columns]"
            ]
          },
          "execution_count": 6,
          "metadata": {},
          "output_type": "execute_result"
        }
      ],
      "source": [
        "train_df.head(10)"
      ]
    },
    {
      "cell_type": "code",
      "execution_count": null,
      "id": "09af97b4",
      "metadata": {
        "execution": {
          "iopub.execute_input": "2025-07-25T13:26:07.978751Z",
          "iopub.status.busy": "2025-07-25T13:26:07.978433Z",
          "iopub.status.idle": "2025-07-25T13:26:07.995816Z",
          "shell.execute_reply": "2025-07-25T13:26:07.994971Z"
        },
        "papermill": {
          "duration": 0.040798,
          "end_time": "2025-07-25T13:26:07.997246",
          "exception": false,
          "start_time": "2025-07-25T13:26:07.956448",
          "status": "completed"
        },
        "tags": [],
        "id": "09af97b4",
        "outputId": "c216e053-0146-416b-a358-418a44dac9ae"
      },
      "outputs": [
        {
          "data": {
            "text/html": [
              "<div>\n",
              "<style scoped>\n",
              "    .dataframe tbody tr th:only-of-type {\n",
              "        vertical-align: middle;\n",
              "    }\n",
              "\n",
              "    .dataframe tbody tr th {\n",
              "        vertical-align: top;\n",
              "    }\n",
              "\n",
              "    .dataframe thead th {\n",
              "        text-align: right;\n",
              "    }\n",
              "</style>\n",
              "<table border=\"1\" class=\"dataframe\">\n",
              "  <thead>\n",
              "    <tr style=\"text-align: right;\">\n",
              "      <th></th>\n",
              "      <th>userChannel</th>\n",
              "      <th>date</th>\n",
              "      <th>browser</th>\n",
              "      <th>device.browserSize</th>\n",
              "      <th>device.browserVersion</th>\n",
              "      <th>deviceType</th>\n",
              "      <th>device.flashVersion</th>\n",
              "      <th>device.isMobile</th>\n",
              "      <th>device.language</th>\n",
              "      <th>device.mobileDeviceBranding</th>\n",
              "      <th>...</th>\n",
              "      <th>trafficSource</th>\n",
              "      <th>sessionId</th>\n",
              "      <th>sessionNumber</th>\n",
              "      <th>sessionStart</th>\n",
              "      <th>userId</th>\n",
              "      <th>locationZone</th>\n",
              "      <th>geoCluster</th>\n",
              "      <th>browserMajor</th>\n",
              "      <th>screenSize</th>\n",
              "      <th>gclIdPresent</th>\n",
              "    </tr>\n",
              "  </thead>\n",
              "  <tbody>\n",
              "    <tr>\n",
              "      <th>0</th>\n",
              "      <td>Social</td>\n",
              "      <td>20170508</td>\n",
              "      <td>Chrome</td>\n",
              "      <td>not available in demo dataset</td>\n",
              "      <td>not available in demo dataset</td>\n",
              "      <td>desktop</td>\n",
              "      <td>not available in demo dataset</td>\n",
              "      <td>False</td>\n",
              "      <td>not available in demo dataset</td>\n",
              "      <td>not available in demo dataset</td>\n",
              "      <td>...</td>\n",
              "      <td>groups.google.com</td>\n",
              "      <td>1494262567</td>\n",
              "      <td>2</td>\n",
              "      <td>1494262567</td>\n",
              "      <td>59555</td>\n",
              "      <td>8</td>\n",
              "      <td>Region_2</td>\n",
              "      <td>not available in demo dataset</td>\n",
              "      <td>medium</td>\n",
              "      <td>0</td>\n",
              "    </tr>\n",
              "    <tr>\n",
              "      <th>1</th>\n",
              "      <td>Organic Search</td>\n",
              "      <td>20170405</td>\n",
              "      <td>Chrome</td>\n",
              "      <td>not available in demo dataset</td>\n",
              "      <td>not available in demo dataset</td>\n",
              "      <td>desktop</td>\n",
              "      <td>not available in demo dataset</td>\n",
              "      <td>False</td>\n",
              "      <td>not available in demo dataset</td>\n",
              "      <td>not available in demo dataset</td>\n",
              "      <td>...</td>\n",
              "      <td>google</td>\n",
              "      <td>1491433811</td>\n",
              "      <td>1</td>\n",
              "      <td>1491433811</td>\n",
              "      <td>6394</td>\n",
              "      <td>8</td>\n",
              "      <td>Region_1</td>\n",
              "      <td>not available in demo dataset</td>\n",
              "      <td>medium</td>\n",
              "      <td>0</td>\n",
              "    </tr>\n",
              "    <tr>\n",
              "      <th>2</th>\n",
              "      <td>Organic Search</td>\n",
              "      <td>20170308</td>\n",
              "      <td>Safari</td>\n",
              "      <td>not available in demo dataset</td>\n",
              "      <td>not available in demo dataset</td>\n",
              "      <td>desktop</td>\n",
              "      <td>not available in demo dataset</td>\n",
              "      <td>False</td>\n",
              "      <td>not available in demo dataset</td>\n",
              "      <td>not available in demo dataset</td>\n",
              "      <td>...</td>\n",
              "      <td>google</td>\n",
              "      <td>1489001815</td>\n",
              "      <td>1</td>\n",
              "      <td>1489001815</td>\n",
              "      <td>38969</td>\n",
              "      <td>8</td>\n",
              "      <td>Region_5</td>\n",
              "      <td>not available in demo dataset</td>\n",
              "      <td>medium</td>\n",
              "      <td>0</td>\n",
              "    </tr>\n",
              "    <tr>\n",
              "      <th>3</th>\n",
              "      <td>Referral</td>\n",
              "      <td>20171113</td>\n",
              "      <td>Chrome</td>\n",
              "      <td>not available in demo dataset</td>\n",
              "      <td>not available in demo dataset</td>\n",
              "      <td>desktop</td>\n",
              "      <td>not available in demo dataset</td>\n",
              "      <td>False</td>\n",
              "      <td>not available in demo dataset</td>\n",
              "      <td>not available in demo dataset</td>\n",
              "      <td>...</td>\n",
              "      <td>docs.google.com</td>\n",
              "      <td>1510593024</td>\n",
              "      <td>30</td>\n",
              "      <td>1510593024</td>\n",
              "      <td>120027</td>\n",
              "      <td>8</td>\n",
              "      <td>Region_2</td>\n",
              "      <td>not available in demo dataset</td>\n",
              "      <td>medium</td>\n",
              "      <td>0</td>\n",
              "    </tr>\n",
              "    <tr>\n",
              "      <th>4</th>\n",
              "      <td>Organic Search</td>\n",
              "      <td>20161212</td>\n",
              "      <td>Chrome</td>\n",
              "      <td>not available in demo dataset</td>\n",
              "      <td>not available in demo dataset</td>\n",
              "      <td>desktop</td>\n",
              "      <td>not available in demo dataset</td>\n",
              "      <td>False</td>\n",
              "      <td>not available in demo dataset</td>\n",
              "      <td>not available in demo dataset</td>\n",
              "      <td>...</td>\n",
              "      <td>(direct)</td>\n",
              "      <td>1481559809</td>\n",
              "      <td>1</td>\n",
              "      <td>1481559809</td>\n",
              "      <td>69453</td>\n",
              "      <td>8</td>\n",
              "      <td>Region_3</td>\n",
              "      <td>not available in demo dataset</td>\n",
              "      <td>medium</td>\n",
              "      <td>0</td>\n",
              "    </tr>\n",
              "  </tbody>\n",
              "</table>\n",
              "<p>5 rows × 51 columns</p>\n",
              "</div>"
            ],
            "text/plain": [
              "      userChannel      date browser             device.browserSize  \\\n",
              "0          Social  20170508  Chrome  not available in demo dataset   \n",
              "1  Organic Search  20170405  Chrome  not available in demo dataset   \n",
              "2  Organic Search  20170308  Safari  not available in demo dataset   \n",
              "3        Referral  20171113  Chrome  not available in demo dataset   \n",
              "4  Organic Search  20161212  Chrome  not available in demo dataset   \n",
              "\n",
              "           device.browserVersion deviceType            device.flashVersion  \\\n",
              "0  not available in demo dataset    desktop  not available in demo dataset   \n",
              "1  not available in demo dataset    desktop  not available in demo dataset   \n",
              "2  not available in demo dataset    desktop  not available in demo dataset   \n",
              "3  not available in demo dataset    desktop  not available in demo dataset   \n",
              "4  not available in demo dataset    desktop  not available in demo dataset   \n",
              "\n",
              "   device.isMobile                device.language  \\\n",
              "0            False  not available in demo dataset   \n",
              "1            False  not available in demo dataset   \n",
              "2            False  not available in demo dataset   \n",
              "3            False  not available in demo dataset   \n",
              "4            False  not available in demo dataset   \n",
              "\n",
              "     device.mobileDeviceBranding  ...      trafficSource   sessionId  \\\n",
              "0  not available in demo dataset  ...  groups.google.com  1494262567   \n",
              "1  not available in demo dataset  ...             google  1491433811   \n",
              "2  not available in demo dataset  ...             google  1489001815   \n",
              "3  not available in demo dataset  ...    docs.google.com  1510593024   \n",
              "4  not available in demo dataset  ...           (direct)  1481559809   \n",
              "\n",
              "  sessionNumber sessionStart  userId locationZone geoCluster  \\\n",
              "0             2   1494262567   59555            8   Region_2   \n",
              "1             1   1491433811    6394            8   Region_1   \n",
              "2             1   1489001815   38969            8   Region_5   \n",
              "3            30   1510593024  120027            8   Region_2   \n",
              "4             1   1481559809   69453            8   Region_3   \n",
              "\n",
              "                    browserMajor screenSize gclIdPresent  \n",
              "0  not available in demo dataset     medium            0  \n",
              "1  not available in demo dataset     medium            0  \n",
              "2  not available in demo dataset     medium            0  \n",
              "3  not available in demo dataset     medium            0  \n",
              "4  not available in demo dataset     medium            0  \n",
              "\n",
              "[5 rows x 51 columns]"
            ]
          },
          "execution_count": 7,
          "metadata": {},
          "output_type": "execute_result"
        }
      ],
      "source": [
        "test_df.head()"
      ]
    },
    {
      "cell_type": "code",
      "execution_count": null,
      "id": "da392f63",
      "metadata": {
        "execution": {
          "iopub.execute_input": "2025-07-25T13:26:08.041506Z",
          "iopub.status.busy": "2025-07-25T13:26:08.041180Z",
          "iopub.status.idle": "2025-07-25T13:26:08.049437Z",
          "shell.execute_reply": "2025-07-25T13:26:08.048516Z"
        },
        "papermill": {
          "duration": 0.030825,
          "end_time": "2025-07-25T13:26:08.050984",
          "exception": false,
          "start_time": "2025-07-25T13:26:08.020159",
          "status": "completed"
        },
        "tags": [],
        "id": "da392f63",
        "outputId": "9328afeb-df82-400b-d5c8-6bbf8d63b181"
      },
      "outputs": [
        {
          "data": {
            "text/plain": [
              "trafficSource.isTrueDirect                       object\n",
              "purchaseValue                                   float64\n",
              "browser                                          object\n",
              "device.screenResolution                          object\n",
              "trafficSource.adContent                          object\n",
              "trafficSource.keyword                            object\n",
              "screenSize                                       object\n",
              "geoCluster                                       object\n",
              "trafficSource.adwordsClickInfo.slot              object\n",
              "device.mobileDeviceBranding                      object\n",
              "device.mobileInputSelector                       object\n",
              "userId                                            int64\n",
              "trafficSource.campaign                           object\n",
              "device.mobileDeviceMarketingName                 object\n",
              "geoNetwork.networkDomain                         object\n",
              "gclIdPresent                                      int64\n",
              "device.operatingSystemVersion                    object\n",
              "sessionNumber                                     int64\n",
              "device.flashVersion                              object\n",
              "geoNetwork.region                                object\n",
              "trafficSource                                    object\n",
              "totals.visits                                     int64\n",
              "geoNetwork.networkLocation                       object\n",
              "sessionId                                         int64\n",
              "os                                               object\n",
              "geoNetwork.subContinent                          object\n",
              "trafficSource.medium                             object\n",
              "trafficSource.adwordsClickInfo.isVideoAd         object\n",
              "browserMajor                                     object\n",
              "locationCountry                                  object\n",
              "device.browserSize                               object\n",
              "trafficSource.adwordsClickInfo.adNetworkType     object\n",
              "socialEngagementType                             object\n",
              "geoNetwork.city                                  object\n",
              "trafficSource.adwordsClickInfo.page             float64\n",
              "geoNetwork.metro                                 object\n",
              "pageViews                                       float64\n",
              "locationZone                                      int64\n",
              "device.mobileDeviceModel                         object\n",
              "trafficSource.referralPath                       object\n",
              "totals.bounces                                  float64\n",
              "date                                              int64\n",
              "device.language                                  object\n",
              "deviceType                                       object\n",
              "userChannel                                      object\n",
              "device.browserVersion                            object\n",
              "totalHits                                         int64\n",
              "device.screenColors                              object\n",
              "sessionStart                                      int64\n",
              "geoNetwork.continent                             object\n",
              "device.isMobile                                    bool\n",
              "new_visits                                      float64\n",
              "dtype: object"
            ]
          },
          "execution_count": 8,
          "metadata": {},
          "output_type": "execute_result"
        }
      ],
      "source": [
        "train_df.dtypes"
      ]
    },
    {
      "cell_type": "markdown",
      "id": "3e1e414d",
      "metadata": {
        "papermill": {
          "duration": 0.023011,
          "end_time": "2025-07-25T13:26:08.094960",
          "exception": false,
          "start_time": "2025-07-25T13:26:08.071949",
          "status": "completed"
        },
        "tags": [],
        "id": "3e1e414d"
      },
      "source": [
        "# **3. Exploratory Data Analysis (EDA)**"
      ]
    },
    {
      "cell_type": "markdown",
      "id": "cfdf664f",
      "metadata": {
        "papermill": {
          "duration": 0.021233,
          "end_time": "2025-07-25T13:26:08.143591",
          "exception": false,
          "start_time": "2025-07-25T13:26:08.122358",
          "status": "completed"
        },
        "tags": [],
        "id": "cfdf664f"
      },
      "source": [
        "## **3.1 Statistical Analysis**"
      ]
    },
    {
      "cell_type": "markdown",
      "id": "5ab5f35d",
      "metadata": {
        "papermill": {
          "duration": 0.020122,
          "end_time": "2025-07-25T13:26:08.185325",
          "exception": false,
          "start_time": "2025-07-25T13:26:08.165203",
          "status": "completed"
        },
        "tags": [],
        "id": "5ab5f35d"
      },
      "source": [
        "**Observation**\n",
        "- Majority of columns are of **object type** (Categorical).\n",
        "- Some features like `trafficSource.adContent`, `totals.bounces`, etc. have missing values."
      ]
    },
    {
      "cell_type": "code",
      "execution_count": null,
      "id": "cd61f3b8",
      "metadata": {
        "execution": {
          "iopub.execute_input": "2025-07-25T13:26:08.226619Z",
          "iopub.status.busy": "2025-07-25T13:26:08.225840Z",
          "iopub.status.idle": "2025-07-25T13:26:08.498498Z",
          "shell.execute_reply": "2025-07-25T13:26:08.497382Z"
        },
        "papermill": {
          "duration": 0.295095,
          "end_time": "2025-07-25T13:26:08.500141",
          "exception": false,
          "start_time": "2025-07-25T13:26:08.205046",
          "status": "completed"
        },
        "tags": [],
        "id": "cd61f3b8",
        "outputId": "11d258d6-62e8-46b3-db05-113a5c45085f"
      },
      "outputs": [
        {
          "name": "stdout",
          "output_type": "stream",
          "text": [
            "<class 'pandas.core.frame.DataFrame'>\n",
            "RangeIndex: 116023 entries, 0 to 116022\n",
            "Data columns (total 52 columns):\n",
            " #   Column                                        Non-Null Count   Dtype  \n",
            "---  ------                                        --------------   -----  \n",
            " 0   trafficSource.isTrueDirect                    42890 non-null   object \n",
            " 1   purchaseValue                                 116023 non-null  float64\n",
            " 2   browser                                       116023 non-null  object \n",
            " 3   device.screenResolution                       116023 non-null  object \n",
            " 4   trafficSource.adContent                       2963 non-null    object \n",
            " 5   trafficSource.keyword                         44162 non-null   object \n",
            " 6   screenSize                                    116023 non-null  object \n",
            " 7   geoCluster                                    116023 non-null  object \n",
            " 8   trafficSource.adwordsClickInfo.slot           4281 non-null    object \n",
            " 9   device.mobileDeviceBranding                   116023 non-null  object \n",
            " 10  device.mobileInputSelector                    116023 non-null  object \n",
            " 11  userId                                        116023 non-null  int64  \n",
            " 12  trafficSource.campaign                        116023 non-null  object \n",
            " 13  device.mobileDeviceMarketingName              116023 non-null  object \n",
            " 14  geoNetwork.networkDomain                      116023 non-null  object \n",
            " 15  gclIdPresent                                  116023 non-null  int64  \n",
            " 16  device.operatingSystemVersion                 116023 non-null  object \n",
            " 17  sessionNumber                                 116023 non-null  int64  \n",
            " 18  device.flashVersion                           116023 non-null  object \n",
            " 19  geoNetwork.region                             116023 non-null  object \n",
            " 20  trafficSource                                 116023 non-null  object \n",
            " 21  totals.visits                                 116023 non-null  int64  \n",
            " 22  geoNetwork.networkLocation                    116023 non-null  object \n",
            " 23  sessionId                                     116023 non-null  int64  \n",
            " 24  os                                            116023 non-null  object \n",
            " 25  geoNetwork.subContinent                       116023 non-null  object \n",
            " 26  trafficSource.medium                          116023 non-null  object \n",
            " 27  trafficSource.adwordsClickInfo.isVideoAd      4281 non-null    object \n",
            " 28  browserMajor                                  116023 non-null  object \n",
            " 29  locationCountry                               116023 non-null  object \n",
            " 30  device.browserSize                            116023 non-null  object \n",
            " 31  trafficSource.adwordsClickInfo.adNetworkType  4281 non-null    object \n",
            " 32  socialEngagementType                          116023 non-null  object \n",
            " 33  geoNetwork.city                               116023 non-null  object \n",
            " 34  trafficSource.adwordsClickInfo.page           4281 non-null    float64\n",
            " 35  geoNetwork.metro                              116023 non-null  object \n",
            " 36  pageViews                                     116015 non-null  float64\n",
            " 37  locationZone                                  116023 non-null  int64  \n",
            " 38  device.mobileDeviceModel                      116023 non-null  object \n",
            " 39  trafficSource.referralPath                    42714 non-null   object \n",
            " 40  totals.bounces                                47148 non-null   float64\n",
            " 41  date                                          116023 non-null  int64  \n",
            " 42  device.language                               116023 non-null  object \n",
            " 43  deviceType                                    116023 non-null  object \n",
            " 44  userChannel                                   116023 non-null  object \n",
            " 45  device.browserVersion                         116023 non-null  object \n",
            " 46  totalHits                                     116023 non-null  int64  \n",
            " 47  device.screenColors                           116023 non-null  object \n",
            " 48  sessionStart                                  116023 non-null  int64  \n",
            " 49  geoNetwork.continent                          116023 non-null  object \n",
            " 50  device.isMobile                               116023 non-null  bool   \n",
            " 51  new_visits                                    80518 non-null   float64\n",
            "dtypes: bool(1), float64(5), int64(9), object(37)\n",
            "memory usage: 45.3+ MB\n"
          ]
        }
      ],
      "source": [
        "train_df.info()"
      ]
    },
    {
      "cell_type": "markdown",
      "id": "0e721795",
      "metadata": {
        "papermill": {
          "duration": 0.019391,
          "end_time": "2025-07-25T13:26:08.539869",
          "exception": false,
          "start_time": "2025-07-25T13:26:08.520478",
          "status": "completed"
        },
        "tags": [],
        "id": "0e721795"
      },
      "source": [
        "**Observation**\n",
        "- `purchaseValue` has a highly skewed distribution.\n",
        "- Many features (like `totals.visits`, `locationZone`) have constant values.\n",
        "- Some features (e.g., `sessionNumber`, `pageViews`) show wide variability."
      ]
    },
    {
      "cell_type": "code",
      "execution_count": null,
      "id": "e412e3c4",
      "metadata": {
        "execution": {
          "iopub.execute_input": "2025-07-25T13:26:08.582019Z",
          "iopub.status.busy": "2025-07-25T13:26:08.581625Z",
          "iopub.status.idle": "2025-07-25T13:26:08.686559Z",
          "shell.execute_reply": "2025-07-25T13:26:08.685532Z"
        },
        "papermill": {
          "duration": 0.128468,
          "end_time": "2025-07-25T13:26:08.688235",
          "exception": false,
          "start_time": "2025-07-25T13:26:08.559767",
          "status": "completed"
        },
        "tags": [],
        "id": "e412e3c4",
        "outputId": "9a546f5b-6507-4a7c-c7e4-e003c8a550be"
      },
      "outputs": [
        {
          "data": {
            "text/html": [
              "<div>\n",
              "<style scoped>\n",
              "    .dataframe tbody tr th:only-of-type {\n",
              "        vertical-align: middle;\n",
              "    }\n",
              "\n",
              "    .dataframe tbody tr th {\n",
              "        vertical-align: top;\n",
              "    }\n",
              "\n",
              "    .dataframe thead th {\n",
              "        text-align: right;\n",
              "    }\n",
              "</style>\n",
              "<table border=\"1\" class=\"dataframe\">\n",
              "  <thead>\n",
              "    <tr style=\"text-align: right;\">\n",
              "      <th></th>\n",
              "      <th>count</th>\n",
              "      <th>mean</th>\n",
              "      <th>std</th>\n",
              "      <th>min</th>\n",
              "      <th>25%</th>\n",
              "      <th>50%</th>\n",
              "      <th>75%</th>\n",
              "      <th>max</th>\n",
              "    </tr>\n",
              "  </thead>\n",
              "  <tbody>\n",
              "    <tr>\n",
              "      <th>purchaseValue</th>\n",
              "      <td>116023.0</td>\n",
              "      <td>2.656393e+07</td>\n",
              "      <td>2.051825e+08</td>\n",
              "      <td>0.000000e+00</td>\n",
              "      <td>0.000000e+00</td>\n",
              "      <td>0.000000e+00</td>\n",
              "      <td>0.000000e+00</td>\n",
              "      <td>2.312950e+10</td>\n",
              "    </tr>\n",
              "    <tr>\n",
              "      <th>userId</th>\n",
              "      <td>116023.0</td>\n",
              "      <td>6.109436e+04</td>\n",
              "      <td>3.524076e+04</td>\n",
              "      <td>0.000000e+00</td>\n",
              "      <td>3.060350e+04</td>\n",
              "      <td>6.101400e+04</td>\n",
              "      <td>9.161650e+04</td>\n",
              "      <td>1.222760e+05</td>\n",
              "    </tr>\n",
              "    <tr>\n",
              "      <th>gclIdPresent</th>\n",
              "      <td>116023.0</td>\n",
              "      <td>3.701852e-02</td>\n",
              "      <td>1.888080e-01</td>\n",
              "      <td>0.000000e+00</td>\n",
              "      <td>0.000000e+00</td>\n",
              "      <td>0.000000e+00</td>\n",
              "      <td>0.000000e+00</td>\n",
              "      <td>1.000000e+00</td>\n",
              "    </tr>\n",
              "    <tr>\n",
              "      <th>sessionNumber</th>\n",
              "      <td>116023.0</td>\n",
              "      <td>2.691311e+00</td>\n",
              "      <td>1.045161e+01</td>\n",
              "      <td>1.000000e+00</td>\n",
              "      <td>1.000000e+00</td>\n",
              "      <td>1.000000e+00</td>\n",
              "      <td>2.000000e+00</td>\n",
              "      <td>4.470000e+02</td>\n",
              "    </tr>\n",
              "    <tr>\n",
              "      <th>totals.visits</th>\n",
              "      <td>116023.0</td>\n",
              "      <td>1.000000e+00</td>\n",
              "      <td>0.000000e+00</td>\n",
              "      <td>1.000000e+00</td>\n",
              "      <td>1.000000e+00</td>\n",
              "      <td>1.000000e+00</td>\n",
              "      <td>1.000000e+00</td>\n",
              "      <td>1.000000e+00</td>\n",
              "    </tr>\n",
              "    <tr>\n",
              "      <th>sessionId</th>\n",
              "      <td>116023.0</td>\n",
              "      <td>1.493429e+09</td>\n",
              "      <td>1.528798e+07</td>\n",
              "      <td>1.470035e+09</td>\n",
              "      <td>1.480066e+09</td>\n",
              "      <td>1.491646e+09</td>\n",
              "      <td>1.505079e+09</td>\n",
              "      <td>1.525157e+09</td>\n",
              "    </tr>\n",
              "    <tr>\n",
              "      <th>trafficSource.adwordsClickInfo.page</th>\n",
              "      <td>4281.0</td>\n",
              "      <td>1.019622e+00</td>\n",
              "      <td>1.745165e-01</td>\n",
              "      <td>1.000000e+00</td>\n",
              "      <td>1.000000e+00</td>\n",
              "      <td>1.000000e+00</td>\n",
              "      <td>1.000000e+00</td>\n",
              "      <td>5.000000e+00</td>\n",
              "    </tr>\n",
              "    <tr>\n",
              "      <th>pageViews</th>\n",
              "      <td>116015.0</td>\n",
              "      <td>8.412352e+00</td>\n",
              "      <td>1.434494e+01</td>\n",
              "      <td>1.000000e+00</td>\n",
              "      <td>1.000000e+00</td>\n",
              "      <td>2.000000e+00</td>\n",
              "      <td>1.000000e+01</td>\n",
              "      <td>4.690000e+02</td>\n",
              "    </tr>\n",
              "    <tr>\n",
              "      <th>locationZone</th>\n",
              "      <td>116023.0</td>\n",
              "      <td>8.000000e+00</td>\n",
              "      <td>0.000000e+00</td>\n",
              "      <td>8.000000e+00</td>\n",
              "      <td>8.000000e+00</td>\n",
              "      <td>8.000000e+00</td>\n",
              "      <td>8.000000e+00</td>\n",
              "      <td>8.000000e+00</td>\n",
              "    </tr>\n",
              "    <tr>\n",
              "      <th>totals.bounces</th>\n",
              "      <td>47148.0</td>\n",
              "      <td>1.000000e+00</td>\n",
              "      <td>0.000000e+00</td>\n",
              "      <td>1.000000e+00</td>\n",
              "      <td>1.000000e+00</td>\n",
              "      <td>1.000000e+00</td>\n",
              "      <td>1.000000e+00</td>\n",
              "      <td>1.000000e+00</td>\n",
              "    </tr>\n",
              "    <tr>\n",
              "      <th>date</th>\n",
              "      <td>116023.0</td>\n",
              "      <td>2.016860e+07</td>\n",
              "      <td>6.182322e+03</td>\n",
              "      <td>2.016080e+07</td>\n",
              "      <td>2.016112e+07</td>\n",
              "      <td>2.017041e+07</td>\n",
              "      <td>2.017091e+07</td>\n",
              "      <td>2.018043e+07</td>\n",
              "    </tr>\n",
              "    <tr>\n",
              "      <th>totalHits</th>\n",
              "      <td>116023.0</td>\n",
              "      <td>1.060737e+01</td>\n",
              "      <td>1.962958e+01</td>\n",
              "      <td>1.000000e+00</td>\n",
              "      <td>1.000000e+00</td>\n",
              "      <td>2.000000e+00</td>\n",
              "      <td>1.200000e+01</td>\n",
              "      <td>5.000000e+02</td>\n",
              "    </tr>\n",
              "    <tr>\n",
              "      <th>sessionStart</th>\n",
              "      <td>116023.0</td>\n",
              "      <td>1.493429e+09</td>\n",
              "      <td>1.528798e+07</td>\n",
              "      <td>1.470035e+09</td>\n",
              "      <td>1.480066e+09</td>\n",
              "      <td>1.491646e+09</td>\n",
              "      <td>1.505079e+09</td>\n",
              "      <td>1.525157e+09</td>\n",
              "    </tr>\n",
              "    <tr>\n",
              "      <th>new_visits</th>\n",
              "      <td>80518.0</td>\n",
              "      <td>1.000000e+00</td>\n",
              "      <td>0.000000e+00</td>\n",
              "      <td>1.000000e+00</td>\n",
              "      <td>1.000000e+00</td>\n",
              "      <td>1.000000e+00</td>\n",
              "      <td>1.000000e+00</td>\n",
              "      <td>1.000000e+00</td>\n",
              "    </tr>\n",
              "  </tbody>\n",
              "</table>\n",
              "</div>"
            ],
            "text/plain": [
              "                                        count          mean           std  \\\n",
              "purchaseValue                        116023.0  2.656393e+07  2.051825e+08   \n",
              "userId                               116023.0  6.109436e+04  3.524076e+04   \n",
              "gclIdPresent                         116023.0  3.701852e-02  1.888080e-01   \n",
              "sessionNumber                        116023.0  2.691311e+00  1.045161e+01   \n",
              "totals.visits                        116023.0  1.000000e+00  0.000000e+00   \n",
              "sessionId                            116023.0  1.493429e+09  1.528798e+07   \n",
              "trafficSource.adwordsClickInfo.page    4281.0  1.019622e+00  1.745165e-01   \n",
              "pageViews                            116015.0  8.412352e+00  1.434494e+01   \n",
              "locationZone                         116023.0  8.000000e+00  0.000000e+00   \n",
              "totals.bounces                        47148.0  1.000000e+00  0.000000e+00   \n",
              "date                                 116023.0  2.016860e+07  6.182322e+03   \n",
              "totalHits                            116023.0  1.060737e+01  1.962958e+01   \n",
              "sessionStart                         116023.0  1.493429e+09  1.528798e+07   \n",
              "new_visits                            80518.0  1.000000e+00  0.000000e+00   \n",
              "\n",
              "                                              min           25%           50%  \\\n",
              "purchaseValue                        0.000000e+00  0.000000e+00  0.000000e+00   \n",
              "userId                               0.000000e+00  3.060350e+04  6.101400e+04   \n",
              "gclIdPresent                         0.000000e+00  0.000000e+00  0.000000e+00   \n",
              "sessionNumber                        1.000000e+00  1.000000e+00  1.000000e+00   \n",
              "totals.visits                        1.000000e+00  1.000000e+00  1.000000e+00   \n",
              "sessionId                            1.470035e+09  1.480066e+09  1.491646e+09   \n",
              "trafficSource.adwordsClickInfo.page  1.000000e+00  1.000000e+00  1.000000e+00   \n",
              "pageViews                            1.000000e+00  1.000000e+00  2.000000e+00   \n",
              "locationZone                         8.000000e+00  8.000000e+00  8.000000e+00   \n",
              "totals.bounces                       1.000000e+00  1.000000e+00  1.000000e+00   \n",
              "date                                 2.016080e+07  2.016112e+07  2.017041e+07   \n",
              "totalHits                            1.000000e+00  1.000000e+00  2.000000e+00   \n",
              "sessionStart                         1.470035e+09  1.480066e+09  1.491646e+09   \n",
              "new_visits                           1.000000e+00  1.000000e+00  1.000000e+00   \n",
              "\n",
              "                                              75%           max  \n",
              "purchaseValue                        0.000000e+00  2.312950e+10  \n",
              "userId                               9.161650e+04  1.222760e+05  \n",
              "gclIdPresent                         0.000000e+00  1.000000e+00  \n",
              "sessionNumber                        2.000000e+00  4.470000e+02  \n",
              "totals.visits                        1.000000e+00  1.000000e+00  \n",
              "sessionId                            1.505079e+09  1.525157e+09  \n",
              "trafficSource.adwordsClickInfo.page  1.000000e+00  5.000000e+00  \n",
              "pageViews                            1.000000e+01  4.690000e+02  \n",
              "locationZone                         8.000000e+00  8.000000e+00  \n",
              "totals.bounces                       1.000000e+00  1.000000e+00  \n",
              "date                                 2.017091e+07  2.018043e+07  \n",
              "totalHits                            1.200000e+01  5.000000e+02  \n",
              "sessionStart                         1.505079e+09  1.525157e+09  \n",
              "new_visits                           1.000000e+00  1.000000e+00  "
            ]
          },
          "execution_count": 10,
          "metadata": {},
          "output_type": "execute_result"
        }
      ],
      "source": [
        "train_df.describe().T"
      ]
    },
    {
      "cell_type": "markdown",
      "id": "d6b1c8be",
      "metadata": {
        "papermill": {
          "duration": 0.020191,
          "end_time": "2025-07-25T13:26:08.729174",
          "exception": false,
          "start_time": "2025-07-25T13:26:08.708983",
          "status": "completed"
        },
        "tags": [],
        "id": "d6b1c8be"
      },
      "source": [
        "**Observation**\n",
        "- **Many categorical columns have only 1 Unique value** (example `device.screenResolution`, `device.language`, `socialEngagementType`, etc.), contains only **\"not available in demo dataset\"**, these provide no predictive value and should be dropped.\n",
        "- Columns like `browser`, `geoNetwork.city`, and `locationCountry` have high cardinality."
      ]
    },
    {
      "cell_type": "code",
      "execution_count": null,
      "id": "81237b1b",
      "metadata": {
        "execution": {
          "iopub.execute_input": "2025-07-25T13:26:08.772064Z",
          "iopub.status.busy": "2025-07-25T13:26:08.771679Z",
          "iopub.status.idle": "2025-07-25T13:26:09.366592Z",
          "shell.execute_reply": "2025-07-25T13:26:09.365671Z"
        },
        "papermill": {
          "duration": 0.618586,
          "end_time": "2025-07-25T13:26:09.368131",
          "exception": false,
          "start_time": "2025-07-25T13:26:08.749545",
          "status": "completed"
        },
        "tags": [],
        "id": "81237b1b",
        "outputId": "788b6b1d-5ef1-4a88-99d4-6253ad82c6bc"
      },
      "outputs": [
        {
          "data": {
            "text/html": [
              "<div>\n",
              "<style scoped>\n",
              "    .dataframe tbody tr th:only-of-type {\n",
              "        vertical-align: middle;\n",
              "    }\n",
              "\n",
              "    .dataframe tbody tr th {\n",
              "        vertical-align: top;\n",
              "    }\n",
              "\n",
              "    .dataframe thead th {\n",
              "        text-align: right;\n",
              "    }\n",
              "</style>\n",
              "<table border=\"1\" class=\"dataframe\">\n",
              "  <thead>\n",
              "    <tr style=\"text-align: right;\">\n",
              "      <th></th>\n",
              "      <th>count</th>\n",
              "      <th>unique</th>\n",
              "      <th>top</th>\n",
              "      <th>freq</th>\n",
              "    </tr>\n",
              "  </thead>\n",
              "  <tbody>\n",
              "    <tr>\n",
              "      <th>trafficSource.isTrueDirect</th>\n",
              "      <td>42890</td>\n",
              "      <td>1</td>\n",
              "      <td>True</td>\n",
              "      <td>42890</td>\n",
              "    </tr>\n",
              "    <tr>\n",
              "      <th>browser</th>\n",
              "      <td>116023</td>\n",
              "      <td>34</td>\n",
              "      <td>Chrome</td>\n",
              "      <td>84508</td>\n",
              "    </tr>\n",
              "    <tr>\n",
              "      <th>device.screenResolution</th>\n",
              "      <td>116023</td>\n",
              "      <td>1</td>\n",
              "      <td>not available in demo dataset</td>\n",
              "      <td>116023</td>\n",
              "    </tr>\n",
              "    <tr>\n",
              "      <th>trafficSource.adContent</th>\n",
              "      <td>2963</td>\n",
              "      <td>53</td>\n",
              "      <td>Google Merchandise Store</td>\n",
              "      <td>1410</td>\n",
              "    </tr>\n",
              "    <tr>\n",
              "      <th>trafficSource.keyword</th>\n",
              "      <td>44162</td>\n",
              "      <td>566</td>\n",
              "      <td>(not provided)</td>\n",
              "      <td>39066</td>\n",
              "    </tr>\n",
              "    <tr>\n",
              "      <th>screenSize</th>\n",
              "      <td>116023</td>\n",
              "      <td>1</td>\n",
              "      <td>medium</td>\n",
              "      <td>116023</td>\n",
              "    </tr>\n",
              "    <tr>\n",
              "      <th>geoCluster</th>\n",
              "      <td>116023</td>\n",
              "      <td>5</td>\n",
              "      <td>Region_2</td>\n",
              "      <td>23294</td>\n",
              "    </tr>\n",
              "    <tr>\n",
              "      <th>trafficSource.adwordsClickInfo.slot</th>\n",
              "      <td>4281</td>\n",
              "      <td>3</td>\n",
              "      <td>Top</td>\n",
              "      <td>2721</td>\n",
              "    </tr>\n",
              "    <tr>\n",
              "      <th>device.mobileDeviceBranding</th>\n",
              "      <td>116023</td>\n",
              "      <td>1</td>\n",
              "      <td>not available in demo dataset</td>\n",
              "      <td>116023</td>\n",
              "    </tr>\n",
              "    <tr>\n",
              "      <th>device.mobileInputSelector</th>\n",
              "      <td>116023</td>\n",
              "      <td>1</td>\n",
              "      <td>not available in demo dataset</td>\n",
              "      <td>116023</td>\n",
              "    </tr>\n",
              "    <tr>\n",
              "      <th>trafficSource.campaign</th>\n",
              "      <td>116023</td>\n",
              "      <td>28</td>\n",
              "      <td>(not set)</td>\n",
              "      <td>110280</td>\n",
              "    </tr>\n",
              "    <tr>\n",
              "      <th>device.mobileDeviceMarketingName</th>\n",
              "      <td>116023</td>\n",
              "      <td>1</td>\n",
              "      <td>not available in demo dataset</td>\n",
              "      <td>116023</td>\n",
              "    </tr>\n",
              "    <tr>\n",
              "      <th>geoNetwork.networkDomain</th>\n",
              "      <td>116023</td>\n",
              "      <td>3</td>\n",
              "      <td>domain1</td>\n",
              "      <td>38795</td>\n",
              "    </tr>\n",
              "    <tr>\n",
              "      <th>device.operatingSystemVersion</th>\n",
              "      <td>116023</td>\n",
              "      <td>1</td>\n",
              "      <td>not available in demo dataset</td>\n",
              "      <td>116023</td>\n",
              "    </tr>\n",
              "    <tr>\n",
              "      <th>device.flashVersion</th>\n",
              "      <td>116023</td>\n",
              "      <td>1</td>\n",
              "      <td>not available in demo dataset</td>\n",
              "      <td>116023</td>\n",
              "    </tr>\n",
              "    <tr>\n",
              "      <th>geoNetwork.region</th>\n",
              "      <td>116023</td>\n",
              "      <td>388</td>\n",
              "      <td>not available in demo dataset</td>\n",
              "      <td>60138</td>\n",
              "    </tr>\n",
              "    <tr>\n",
              "      <th>trafficSource</th>\n",
              "      <td>116023</td>\n",
              "      <td>161</td>\n",
              "      <td>google</td>\n",
              "      <td>44332</td>\n",
              "    </tr>\n",
              "    <tr>\n",
              "      <th>geoNetwork.networkLocation</th>\n",
              "      <td>116023</td>\n",
              "      <td>1</td>\n",
              "      <td>not available in demo dataset</td>\n",
              "      <td>116023</td>\n",
              "    </tr>\n",
              "    <tr>\n",
              "      <th>os</th>\n",
              "      <td>116023</td>\n",
              "      <td>18</td>\n",
              "      <td>Windows</td>\n",
              "      <td>39135</td>\n",
              "    </tr>\n",
              "    <tr>\n",
              "      <th>geoNetwork.subContinent</th>\n",
              "      <td>116023</td>\n",
              "      <td>23</td>\n",
              "      <td>Northern America</td>\n",
              "      <td>63596</td>\n",
              "    </tr>\n",
              "    <tr>\n",
              "      <th>trafficSource.medium</th>\n",
              "      <td>116023</td>\n",
              "      <td>7</td>\n",
              "      <td>organic</td>\n",
              "      <td>40654</td>\n",
              "    </tr>\n",
              "    <tr>\n",
              "      <th>trafficSource.adwordsClickInfo.isVideoAd</th>\n",
              "      <td>4281</td>\n",
              "      <td>1</td>\n",
              "      <td>False</td>\n",
              "      <td>4281</td>\n",
              "    </tr>\n",
              "    <tr>\n",
              "      <th>browserMajor</th>\n",
              "      <td>116023</td>\n",
              "      <td>1</td>\n",
              "      <td>not available in demo dataset</td>\n",
              "      <td>116023</td>\n",
              "    </tr>\n",
              "    <tr>\n",
              "      <th>locationCountry</th>\n",
              "      <td>116023</td>\n",
              "      <td>193</td>\n",
              "      <td>United States</td>\n",
              "      <td>60369</td>\n",
              "    </tr>\n",
              "    <tr>\n",
              "      <th>device.browserSize</th>\n",
              "      <td>116023</td>\n",
              "      <td>1</td>\n",
              "      <td>not available in demo dataset</td>\n",
              "      <td>116023</td>\n",
              "    </tr>\n",
              "    <tr>\n",
              "      <th>trafficSource.adwordsClickInfo.adNetworkType</th>\n",
              "      <td>4281</td>\n",
              "      <td>2</td>\n",
              "      <td>Google Search</td>\n",
              "      <td>2784</td>\n",
              "    </tr>\n",
              "    <tr>\n",
              "      <th>socialEngagementType</th>\n",
              "      <td>116023</td>\n",
              "      <td>1</td>\n",
              "      <td>Not Socially Engaged</td>\n",
              "      <td>116023</td>\n",
              "    </tr>\n",
              "    <tr>\n",
              "      <th>geoNetwork.city</th>\n",
              "      <td>116023</td>\n",
              "      <td>695</td>\n",
              "      <td>not available in demo dataset</td>\n",
              "      <td>60138</td>\n",
              "    </tr>\n",
              "    <tr>\n",
              "      <th>geoNetwork.metro</th>\n",
              "      <td>116023</td>\n",
              "      <td>104</td>\n",
              "      <td>not available in demo dataset</td>\n",
              "      <td>60138</td>\n",
              "    </tr>\n",
              "    <tr>\n",
              "      <th>device.mobileDeviceModel</th>\n",
              "      <td>116023</td>\n",
              "      <td>1</td>\n",
              "      <td>not available in demo dataset</td>\n",
              "      <td>116023</td>\n",
              "    </tr>\n",
              "    <tr>\n",
              "      <th>trafficSource.referralPath</th>\n",
              "      <td>42714</td>\n",
              "      <td>941</td>\n",
              "      <td>/</td>\n",
              "      <td>17970</td>\n",
              "    </tr>\n",
              "    <tr>\n",
              "      <th>device.language</th>\n",
              "      <td>116023</td>\n",
              "      <td>1</td>\n",
              "      <td>not available in demo dataset</td>\n",
              "      <td>116023</td>\n",
              "    </tr>\n",
              "    <tr>\n",
              "      <th>deviceType</th>\n",
              "      <td>116023</td>\n",
              "      <td>3</td>\n",
              "      <td>desktop</td>\n",
              "      <td>86480</td>\n",
              "    </tr>\n",
              "    <tr>\n",
              "      <th>userChannel</th>\n",
              "      <td>116023</td>\n",
              "      <td>8</td>\n",
              "      <td>Organic Search</td>\n",
              "      <td>46925</td>\n",
              "    </tr>\n",
              "    <tr>\n",
              "      <th>device.browserVersion</th>\n",
              "      <td>116023</td>\n",
              "      <td>1</td>\n",
              "      <td>not available in demo dataset</td>\n",
              "      <td>116023</td>\n",
              "    </tr>\n",
              "    <tr>\n",
              "      <th>device.screenColors</th>\n",
              "      <td>116023</td>\n",
              "      <td>1</td>\n",
              "      <td>not available in demo dataset</td>\n",
              "      <td>116023</td>\n",
              "    </tr>\n",
              "    <tr>\n",
              "      <th>geoNetwork.continent</th>\n",
              "      <td>116023</td>\n",
              "      <td>6</td>\n",
              "      <td>Americas</td>\n",
              "      <td>69856</td>\n",
              "    </tr>\n",
              "  </tbody>\n",
              "</table>\n",
              "</div>"
            ],
            "text/plain": [
              "                                               count unique  \\\n",
              "trafficSource.isTrueDirect                     42890      1   \n",
              "browser                                       116023     34   \n",
              "device.screenResolution                       116023      1   \n",
              "trafficSource.adContent                         2963     53   \n",
              "trafficSource.keyword                          44162    566   \n",
              "screenSize                                    116023      1   \n",
              "geoCluster                                    116023      5   \n",
              "trafficSource.adwordsClickInfo.slot             4281      3   \n",
              "device.mobileDeviceBranding                   116023      1   \n",
              "device.mobileInputSelector                    116023      1   \n",
              "trafficSource.campaign                        116023     28   \n",
              "device.mobileDeviceMarketingName              116023      1   \n",
              "geoNetwork.networkDomain                      116023      3   \n",
              "device.operatingSystemVersion                 116023      1   \n",
              "device.flashVersion                           116023      1   \n",
              "geoNetwork.region                             116023    388   \n",
              "trafficSource                                 116023    161   \n",
              "geoNetwork.networkLocation                    116023      1   \n",
              "os                                            116023     18   \n",
              "geoNetwork.subContinent                       116023     23   \n",
              "trafficSource.medium                          116023      7   \n",
              "trafficSource.adwordsClickInfo.isVideoAd        4281      1   \n",
              "browserMajor                                  116023      1   \n",
              "locationCountry                               116023    193   \n",
              "device.browserSize                            116023      1   \n",
              "trafficSource.adwordsClickInfo.adNetworkType    4281      2   \n",
              "socialEngagementType                          116023      1   \n",
              "geoNetwork.city                               116023    695   \n",
              "geoNetwork.metro                              116023    104   \n",
              "device.mobileDeviceModel                      116023      1   \n",
              "trafficSource.referralPath                     42714    941   \n",
              "device.language                               116023      1   \n",
              "deviceType                                    116023      3   \n",
              "userChannel                                   116023      8   \n",
              "device.browserVersion                         116023      1   \n",
              "device.screenColors                           116023      1   \n",
              "geoNetwork.continent                          116023      6   \n",
              "\n",
              "                                                                        top  \\\n",
              "trafficSource.isTrueDirect                                             True   \n",
              "browser                                                              Chrome   \n",
              "device.screenResolution                       not available in demo dataset   \n",
              "trafficSource.adContent                            Google Merchandise Store   \n",
              "trafficSource.keyword                                        (not provided)   \n",
              "screenSize                                                           medium   \n",
              "geoCluster                                                         Region_2   \n",
              "trafficSource.adwordsClickInfo.slot                                     Top   \n",
              "device.mobileDeviceBranding                   not available in demo dataset   \n",
              "device.mobileInputSelector                    not available in demo dataset   \n",
              "trafficSource.campaign                                            (not set)   \n",
              "device.mobileDeviceMarketingName              not available in demo dataset   \n",
              "geoNetwork.networkDomain                                            domain1   \n",
              "device.operatingSystemVersion                 not available in demo dataset   \n",
              "device.flashVersion                           not available in demo dataset   \n",
              "geoNetwork.region                             not available in demo dataset   \n",
              "trafficSource                                                        google   \n",
              "geoNetwork.networkLocation                    not available in demo dataset   \n",
              "os                                                                  Windows   \n",
              "geoNetwork.subContinent                                    Northern America   \n",
              "trafficSource.medium                                                organic   \n",
              "trafficSource.adwordsClickInfo.isVideoAd                              False   \n",
              "browserMajor                                  not available in demo dataset   \n",
              "locationCountry                                               United States   \n",
              "device.browserSize                            not available in demo dataset   \n",
              "trafficSource.adwordsClickInfo.adNetworkType                  Google Search   \n",
              "socialEngagementType                                   Not Socially Engaged   \n",
              "geoNetwork.city                               not available in demo dataset   \n",
              "geoNetwork.metro                              not available in demo dataset   \n",
              "device.mobileDeviceModel                      not available in demo dataset   \n",
              "trafficSource.referralPath                                                /   \n",
              "device.language                               not available in demo dataset   \n",
              "deviceType                                                          desktop   \n",
              "userChannel                                                  Organic Search   \n",
              "device.browserVersion                         not available in demo dataset   \n",
              "device.screenColors                           not available in demo dataset   \n",
              "geoNetwork.continent                                               Americas   \n",
              "\n",
              "                                                freq  \n",
              "trafficSource.isTrueDirect                     42890  \n",
              "browser                                        84508  \n",
              "device.screenResolution                       116023  \n",
              "trafficSource.adContent                         1410  \n",
              "trafficSource.keyword                          39066  \n",
              "screenSize                                    116023  \n",
              "geoCluster                                     23294  \n",
              "trafficSource.adwordsClickInfo.slot             2721  \n",
              "device.mobileDeviceBranding                   116023  \n",
              "device.mobileInputSelector                    116023  \n",
              "trafficSource.campaign                        110280  \n",
              "device.mobileDeviceMarketingName              116023  \n",
              "geoNetwork.networkDomain                       38795  \n",
              "device.operatingSystemVersion                 116023  \n",
              "device.flashVersion                           116023  \n",
              "geoNetwork.region                              60138  \n",
              "trafficSource                                  44332  \n",
              "geoNetwork.networkLocation                    116023  \n",
              "os                                             39135  \n",
              "geoNetwork.subContinent                        63596  \n",
              "trafficSource.medium                           40654  \n",
              "trafficSource.adwordsClickInfo.isVideoAd        4281  \n",
              "browserMajor                                  116023  \n",
              "locationCountry                                60369  \n",
              "device.browserSize                            116023  \n",
              "trafficSource.adwordsClickInfo.adNetworkType    2784  \n",
              "socialEngagementType                          116023  \n",
              "geoNetwork.city                                60138  \n",
              "geoNetwork.metro                               60138  \n",
              "device.mobileDeviceModel                      116023  \n",
              "trafficSource.referralPath                     17970  \n",
              "device.language                               116023  \n",
              "deviceType                                     86480  \n",
              "userChannel                                    46925  \n",
              "device.browserVersion                         116023  \n",
              "device.screenColors                           116023  \n",
              "geoNetwork.continent                           69856  "
            ]
          },
          "execution_count": 11,
          "metadata": {},
          "output_type": "execute_result"
        }
      ],
      "source": [
        "train_df.describe(include=[object]).T"
      ]
    },
    {
      "cell_type": "markdown",
      "id": "d1515a9c",
      "metadata": {
        "papermill": {
          "duration": 0.023634,
          "end_time": "2025-07-25T13:26:09.412688",
          "exception": false,
          "start_time": "2025-07-25T13:26:09.389054",
          "status": "completed"
        },
        "tags": [],
        "id": "d1515a9c"
      },
      "source": [
        "**Observation**\n",
        "- **75% of purchase values are 0** indicates strong right skew.\n",
        "- Max value is extremely high indicates heavy outliers."
      ]
    },
    {
      "cell_type": "code",
      "execution_count": null,
      "id": "d6fa5a35",
      "metadata": {
        "execution": {
          "iopub.execute_input": "2025-07-25T13:26:09.455515Z",
          "iopub.status.busy": "2025-07-25T13:26:09.455163Z",
          "iopub.status.idle": "2025-07-25T13:26:09.468384Z",
          "shell.execute_reply": "2025-07-25T13:26:09.467511Z"
        },
        "papermill": {
          "duration": 0.036713,
          "end_time": "2025-07-25T13:26:09.469877",
          "exception": false,
          "start_time": "2025-07-25T13:26:09.433164",
          "status": "completed"
        },
        "tags": [],
        "id": "d6fa5a35",
        "outputId": "66cd2afe-6792-4e9c-f69f-1c82e53709ec"
      },
      "outputs": [
        {
          "data": {
            "text/plain": [
              "count    1.160230e+05\n",
              "mean     2.656393e+07\n",
              "std      2.051825e+08\n",
              "min      0.000000e+00\n",
              "25%      0.000000e+00\n",
              "50%      0.000000e+00\n",
              "75%      0.000000e+00\n",
              "max      2.312950e+10\n",
              "Name: purchaseValue, dtype: float64"
            ]
          },
          "execution_count": 12,
          "metadata": {},
          "output_type": "execute_result"
        }
      ],
      "source": [
        "train_df['purchaseValue'].describe()"
      ]
    },
    {
      "cell_type": "markdown",
      "id": "66b3d1c5",
      "metadata": {
        "papermill": {
          "duration": 0.020673,
          "end_time": "2025-07-25T13:26:09.511340",
          "exception": false,
          "start_time": "2025-07-25T13:26:09.490667",
          "status": "completed"
        },
        "tags": [],
        "id": "66b3d1c5"
      },
      "source": [
        "**Observation**\n",
        "- `totalHits`, `pageViews`, and `sessionNumber` show moderate positive correlation with `purchaseValue`.\n",
        "- Other numeric features show negligible or negative correlation.\n",
        "- Some columns have **NaNs** in correlation due to constant or missing values."
      ]
    },
    {
      "cell_type": "code",
      "execution_count": null,
      "id": "0de1938d",
      "metadata": {
        "execution": {
          "iopub.execute_input": "2025-07-25T13:26:09.555333Z",
          "iopub.status.busy": "2025-07-25T13:26:09.555023Z",
          "iopub.status.idle": "2025-07-25T13:26:09.647695Z",
          "shell.execute_reply": "2025-07-25T13:26:09.646792Z"
        },
        "papermill": {
          "duration": 0.116308,
          "end_time": "2025-07-25T13:26:09.649258",
          "exception": false,
          "start_time": "2025-07-25T13:26:09.532950",
          "status": "completed"
        },
        "tags": [],
        "id": "0de1938d",
        "outputId": "8e4d1502-84e0-4955-9c23-1856274c0764"
      },
      "outputs": [
        {
          "data": {
            "text/plain": [
              "purchaseValue                          1.000000\n",
              "totalHits                              0.251651\n",
              "pageViews                              0.248454\n",
              "sessionNumber                          0.230585\n",
              "userId                                -0.003469\n",
              "gclIdPresent                          -0.005652\n",
              "date                                  -0.010338\n",
              "sessionStart                          -0.018537\n",
              "sessionId                             -0.018537\n",
              "trafficSource.adwordsClickInfo.page   -0.025839\n",
              "totals.visits                               NaN\n",
              "locationZone                                NaN\n",
              "totals.bounces                              NaN\n",
              "new_visits                                  NaN\n",
              "Name: purchaseValue, dtype: float64"
            ]
          },
          "execution_count": 13,
          "metadata": {},
          "output_type": "execute_result"
        }
      ],
      "source": [
        "numeric_column = train_df.select_dtypes(include= ['int64','float64']).columns\n",
        "train_df[numeric_column].corr()['purchaseValue'].sort_values(ascending=False)"
      ]
    },
    {
      "cell_type": "markdown",
      "id": "458c4dd8",
      "metadata": {
        "papermill": {
          "duration": 0.020446,
          "end_time": "2025-07-25T13:26:09.690559",
          "exception": false,
          "start_time": "2025-07-25T13:26:09.670113",
          "status": "completed"
        },
        "tags": [],
        "id": "458c4dd8"
      },
      "source": [
        "**Observation**\n",
        "- Columns like `trafficSource.adContent` and `trafficSource.adwordsClickInfo.*` have high missing values.\n",
        "- `pageViews`, `totals.bounces`, and `new_visits` have partial missing values."
      ]
    },
    {
      "cell_type": "code",
      "execution_count": null,
      "id": "993baef9",
      "metadata": {
        "execution": {
          "iopub.execute_input": "2025-07-25T13:26:09.733661Z",
          "iopub.status.busy": "2025-07-25T13:26:09.733343Z",
          "iopub.status.idle": "2025-07-25T13:26:09.943211Z",
          "shell.execute_reply": "2025-07-25T13:26:09.942127Z"
        },
        "papermill": {
          "duration": 0.233816,
          "end_time": "2025-07-25T13:26:09.944943",
          "exception": false,
          "start_time": "2025-07-25T13:26:09.711127",
          "status": "completed"
        },
        "tags": [],
        "id": "993baef9",
        "outputId": "820b9d5e-5130-49ee-d856-84f6b2654ed5"
      },
      "outputs": [
        {
          "data": {
            "text/plain": [
              "trafficSource.adContent                         113060\n",
              "trafficSource.adwordsClickInfo.slot             111742\n",
              "trafficSource.adwordsClickInfo.isVideoAd        111742\n",
              "trafficSource.adwordsClickInfo.adNetworkType    111742\n",
              "trafficSource.adwordsClickInfo.page             111742\n",
              "trafficSource.referralPath                       73309\n",
              "trafficSource.isTrueDirect                       73133\n",
              "trafficSource.keyword                            71861\n",
              "totals.bounces                                   68875\n",
              "new_visits                                       35505\n",
              "pageViews                                            8\n",
              "dtype: int64"
            ]
          },
          "execution_count": 14,
          "metadata": {},
          "output_type": "execute_result"
        }
      ],
      "source": [
        "nullValues = train_df.isnull().sum()\n",
        "nullValues[nullValues > 0].sort_values(ascending=False)"
      ]
    },
    {
      "cell_type": "code",
      "execution_count": null,
      "id": "1b2b3112",
      "metadata": {
        "execution": {
          "iopub.execute_input": "2025-07-25T13:26:09.987595Z",
          "iopub.status.busy": "2025-07-25T13:26:09.987293Z",
          "iopub.status.idle": "2025-07-25T13:26:10.472378Z",
          "shell.execute_reply": "2025-07-25T13:26:10.471254Z"
        },
        "papermill": {
          "duration": 0.508531,
          "end_time": "2025-07-25T13:26:10.474282",
          "exception": false,
          "start_time": "2025-07-25T13:26:09.965751",
          "status": "completed"
        },
        "tags": [],
        "id": "1b2b3112",
        "outputId": "74e67a4b-4c18-4312-85b6-eb2dae0e5aa8"
      },
      "outputs": [
        {
          "data": {
            "text/plain": [
              "trafficSource.isTrueDirect                      0\n",
              "purchaseValue                                   0\n",
              "browser                                         0\n",
              "device.screenResolution                         0\n",
              "trafficSource.adContent                         0\n",
              "trafficSource.keyword                           0\n",
              "screenSize                                      0\n",
              "geoCluster                                      0\n",
              "trafficSource.adwordsClickInfo.slot             0\n",
              "device.mobileDeviceBranding                     0\n",
              "device.mobileInputSelector                      0\n",
              "userId                                          0\n",
              "trafficSource.campaign                          0\n",
              "device.mobileDeviceMarketingName                0\n",
              "geoNetwork.networkDomain                        0\n",
              "gclIdPresent                                    0\n",
              "device.operatingSystemVersion                   0\n",
              "sessionNumber                                   0\n",
              "device.flashVersion                             0\n",
              "geoNetwork.region                               0\n",
              "trafficSource                                   0\n",
              "totals.visits                                   0\n",
              "geoNetwork.networkLocation                      0\n",
              "sessionId                                       0\n",
              "os                                              0\n",
              "geoNetwork.subContinent                         0\n",
              "trafficSource.medium                            0\n",
              "trafficSource.adwordsClickInfo.isVideoAd        0\n",
              "browserMajor                                    0\n",
              "locationCountry                                 0\n",
              "device.browserSize                              0\n",
              "trafficSource.adwordsClickInfo.adNetworkType    0\n",
              "socialEngagementType                            0\n",
              "geoNetwork.city                                 0\n",
              "trafficSource.adwordsClickInfo.page             0\n",
              "geoNetwork.metro                                0\n",
              "pageViews                                       0\n",
              "locationZone                                    0\n",
              "device.mobileDeviceModel                        0\n",
              "trafficSource.referralPath                      0\n",
              "totals.bounces                                  0\n",
              "date                                            0\n",
              "device.language                                 0\n",
              "deviceType                                      0\n",
              "userChannel                                     0\n",
              "device.browserVersion                           0\n",
              "totalHits                                       0\n",
              "device.screenColors                             0\n",
              "sessionStart                                    0\n",
              "geoNetwork.continent                            0\n",
              "device.isMobile                                 0\n",
              "new_visits                                      0\n",
              "dtype: int64"
            ]
          },
          "execution_count": 15,
          "metadata": {},
          "output_type": "execute_result"
        }
      ],
      "source": [
        "train_df.isin(['NA','N/A','-','?',' ','nan','NAN']).sum()"
      ]
    },
    {
      "cell_type": "markdown",
      "id": "4ca6b72f",
      "metadata": {
        "papermill": {
          "duration": 0.021647,
          "end_time": "2025-07-25T13:26:10.518325",
          "exception": false,
          "start_time": "2025-07-25T13:26:10.496678",
          "status": "completed"
        },
        "tags": [],
        "id": "4ca6b72f"
      },
      "source": [
        "**Observation**\n",
        "- Found **236** duplicate rows, which can be removed to reduce noise."
      ]
    },
    {
      "cell_type": "code",
      "execution_count": null,
      "id": "9f9b9131",
      "metadata": {
        "execution": {
          "iopub.execute_input": "2025-07-25T13:26:10.564747Z",
          "iopub.status.busy": "2025-07-25T13:26:10.564433Z",
          "iopub.status.idle": "2025-07-25T13:26:10.933579Z",
          "shell.execute_reply": "2025-07-25T13:26:10.932595Z"
        },
        "papermill": {
          "duration": 0.394632,
          "end_time": "2025-07-25T13:26:10.935047",
          "exception": false,
          "start_time": "2025-07-25T13:26:10.540415",
          "status": "completed"
        },
        "tags": [],
        "id": "9f9b9131",
        "outputId": "364bec11-d879-4636-ed86-638c4054ad09"
      },
      "outputs": [
        {
          "name": "stdout",
          "output_type": "stream",
          "text": [
            "Total 236 Duplicate Rows in Train Dataset\n"
          ]
        }
      ],
      "source": [
        "duplicatesCount = train_df.duplicated().sum()\n",
        "print(f\"Total {duplicatesCount} Duplicate Rows in Train Dataset\")"
      ]
    },
    {
      "cell_type": "markdown",
      "id": "ca135c22",
      "metadata": {
        "papermill": {
          "duration": 0.021004,
          "end_time": "2025-07-25T13:26:10.978715",
          "exception": false,
          "start_time": "2025-07-25T13:26:10.957711",
          "status": "completed"
        },
        "tags": [],
        "id": "ca135c22"
      },
      "source": [
        "**Observation**\n",
        "- Columns like `sessionStart`, `sessionId`, `userId` have high value of unique count.\n",
        "- Many features have only 1 unique value (e.g., `device.language`, `browserVersion`, `screenColors`)."
      ]
    },
    {
      "cell_type": "code",
      "execution_count": null,
      "id": "c214eef6",
      "metadata": {
        "execution": {
          "iopub.execute_input": "2025-07-25T13:26:11.023307Z",
          "iopub.status.busy": "2025-07-25T13:26:11.022983Z",
          "iopub.status.idle": "2025-07-25T13:26:11.294206Z",
          "shell.execute_reply": "2025-07-25T13:26:11.293370Z"
        },
        "papermill": {
          "duration": 0.295775,
          "end_time": "2025-07-25T13:26:11.295597",
          "exception": false,
          "start_time": "2025-07-25T13:26:10.999822",
          "status": "completed"
        },
        "tags": [],
        "id": "c214eef6",
        "outputId": "84d962d7-b03b-4abf-a7c1-bfd39207253d"
      },
      "outputs": [
        {
          "data": {
            "text/plain": [
              "sessionStart                                    107388\n",
              "sessionId                                       107379\n",
              "userId                                          100499\n",
              "purchaseValue                                     6766\n",
              "trafficSource.referralPath                         941\n",
              "geoNetwork.city                                    695\n",
              "date                                               638\n",
              "trafficSource.keyword                              566\n",
              "geoNetwork.region                                  388\n",
              "sessionNumber                                      230\n",
              "totalHits                                          225\n",
              "locationCountry                                    193\n",
              "pageViews                                          175\n",
              "trafficSource                                      161\n",
              "geoNetwork.metro                                   104\n",
              "trafficSource.adContent                             53\n",
              "browser                                             34\n",
              "trafficSource.campaign                              28\n",
              "geoNetwork.subContinent                             23\n",
              "os                                                  18\n",
              "userChannel                                          8\n",
              "trafficSource.medium                                 7\n",
              "geoNetwork.continent                                 6\n",
              "geoCluster                                           5\n",
              "trafficSource.adwordsClickInfo.page                  5\n",
              "deviceType                                           3\n",
              "geoNetwork.networkDomain                             3\n",
              "trafficSource.adwordsClickInfo.slot                  3\n",
              "gclIdPresent                                         2\n",
              "trafficSource.adwordsClickInfo.adNetworkType         2\n",
              "device.isMobile                                      2\n",
              "device.language                                      1\n",
              "locationZone                                         1\n",
              "device.browserVersion                                1\n",
              "device.screenColors                                  1\n",
              "totals.bounces                                       1\n",
              "device.mobileDeviceModel                             1\n",
              "trafficSource.isTrueDirect                           1\n",
              "socialEngagementType                                 1\n",
              "device.browserSize                                   1\n",
              "browserMajor                                         1\n",
              "trafficSource.adwordsClickInfo.isVideoAd             1\n",
              "geoNetwork.networkLocation                           1\n",
              "totals.visits                                        1\n",
              "device.flashVersion                                  1\n",
              "device.operatingSystemVersion                        1\n",
              "device.mobileDeviceMarketingName                     1\n",
              "device.mobileInputSelector                           1\n",
              "device.mobileDeviceBranding                          1\n",
              "screenSize                                           1\n",
              "device.screenResolution                              1\n",
              "new_visits                                           1\n",
              "dtype: int64"
            ]
          },
          "execution_count": 17,
          "metadata": {},
          "output_type": "execute_result"
        }
      ],
      "source": [
        "train_df.nunique().sort_values(ascending=False)"
      ]
    },
    {
      "cell_type": "markdown",
      "id": "35236449",
      "metadata": {
        "papermill": {
          "duration": 0.022162,
          "end_time": "2025-07-25T13:26:11.339169",
          "exception": false,
          "start_time": "2025-07-25T13:26:11.317007",
          "status": "completed"
        },
        "tags": [],
        "id": "35236449"
      },
      "source": [
        "## **3.2 Data Visualization**"
      ]
    },
    {
      "cell_type": "code",
      "execution_count": null,
      "id": "f8d3aa73",
      "metadata": {
        "execution": {
          "iopub.execute_input": "2025-07-25T13:26:11.386420Z",
          "iopub.status.busy": "2025-07-25T13:26:11.386116Z",
          "iopub.status.idle": "2025-07-25T13:26:11.752511Z",
          "shell.execute_reply": "2025-07-25T13:26:11.751595Z"
        },
        "papermill": {
          "duration": 0.390533,
          "end_time": "2025-07-25T13:26:11.754150",
          "exception": false,
          "start_time": "2025-07-25T13:26:11.363617",
          "status": "completed"
        },
        "tags": [],
        "id": "f8d3aa73",
        "outputId": "86752a27-15ed-4183-ad34-c31c62e8ce32"
      },
      "outputs": [
        {
          "data": {
            "image/png": "[encoded data removed]",
            "text/plain": [
              "<Figure size 1000x500 with 1 Axes>"
            ]
          },
          "metadata": {},
          "output_type": "display_data"
        }
      ],
      "source": [
        "plt.figure(figsize=(10,5))\n",
        "plt.hist((train_df['purchaseValue']), bins=100)\n",
        "plt.title('Distribution of Purchase Value')\n",
        "plt.xlabel('Purchase Value')\n",
        "plt.ylabel('Frequency')\n",
        "plt.show()"
      ]
    },
    {
      "cell_type": "markdown",
      "id": "ea6152ce",
      "metadata": {
        "papermill": {
          "duration": 0.022798,
          "end_time": "2025-07-25T13:26:11.799838",
          "exception": false,
          "start_time": "2025-07-25T13:26:11.777040",
          "status": "completed"
        },
        "tags": [],
        "id": "ea6152ce"
      },
      "source": [
        "**Observation**\n",
        "- **The histogram shows a large concentration of purchase values at the lower end**, with a long tail stretching to the right, indicating that most purchase are of low value, while a few purchases are exceptionally high.\n",
        "- **The peak (mode) is near the smallest purchase values**, meaning the typical (average/median) purchase is relatively low, and high-value purchases are not common."
      ]
    },
    {
      "cell_type": "code",
      "execution_count": null,
      "id": "70a4a210",
      "metadata": {
        "execution": {
          "iopub.execute_input": "2025-07-25T13:26:11.849006Z",
          "iopub.status.busy": "2025-07-25T13:26:11.848040Z",
          "iopub.status.idle": "2025-07-25T13:26:12.068741Z",
          "shell.execute_reply": "2025-07-25T13:26:12.067801Z"
        },
        "papermill": {
          "duration": 0.247097,
          "end_time": "2025-07-25T13:26:12.070419",
          "exception": false,
          "start_time": "2025-07-25T13:26:11.823322",
          "status": "completed"
        },
        "tags": [],
        "id": "70a4a210",
        "outputId": "6ed2e679-3023-4e6c-90fe-ce80edb87ff4"
      },
      "outputs": [
        {
          "data": {
            "image/png": "[encoded data removed]",
            "text/plain": [
              "<Figure size 600x400 with 1 Axes>"
            ]
          },
          "metadata": {},
          "output_type": "display_data"
        }
      ],
      "source": [
        "numericalFeatures = train_df.select_dtypes(include=['int64', 'float64']).shape[1]\n",
        "categoricalFeatures = train_df.select_dtypes(include=['object']).shape[1]\n",
        "\n",
        "plt.figure(figsize=(6, 4))\n",
        "plt.bar(['Numerical', 'Categorical'], [numericalFeatures, categoricalFeatures], color=['skyblue', 'salmon'])\n",
        "plt.title('Count of Numerical vs. Categorical Features')\n",
        "plt.ylabel('Count of Features')\n",
        "plt.xlabel('Feature Type')\n",
        "plt.tight_layout()\n",
        "plt.show()"
      ]
    },
    {
      "cell_type": "markdown",
      "id": "c5fe6d78",
      "metadata": {
        "papermill": {
          "duration": 0.025469,
          "end_time": "2025-07-25T13:26:12.119087",
          "exception": false,
          "start_time": "2025-07-25T13:26:12.093618",
          "status": "completed"
        },
        "tags": [],
        "id": "c5fe6d78"
      },
      "source": [
        "**Observation**\n",
        "- **Categorical features dominates the train dataset**, with approx 2.5 times more than the categorical features compare to numerical features.\n",
        "- **Just a small proportion of the train dataset consists of numerical features**, showing that accurate categorical feature encoding is critical for model effectiveness."
      ]
    },
    {
      "cell_type": "code",
      "execution_count": null,
      "id": "40c8e561",
      "metadata": {
        "execution": {
          "iopub.execute_input": "2025-07-25T13:26:12.167703Z",
          "iopub.status.busy": "2025-07-25T13:26:12.167369Z",
          "iopub.status.idle": "2025-07-25T13:26:12.348114Z",
          "shell.execute_reply": "2025-07-25T13:26:12.347238Z"
        },
        "papermill": {
          "duration": 0.206191,
          "end_time": "2025-07-25T13:26:12.349722",
          "exception": false,
          "start_time": "2025-07-25T13:26:12.143531",
          "status": "completed"
        },
        "tags": [],
        "id": "40c8e561",
        "outputId": "9997fcce-d4de-44f7-b6de-43bf7825c0e6"
      },
      "outputs": [
        {
          "data": {
            "image/png": "[encoded data removed]",
            "text/plain": [
              "<Figure size 800x500 with 1 Axes>"
            ]
          },
          "metadata": {},
          "output_type": "display_data"
        }
      ],
      "source": [
        "deviceType = train_df['deviceType'].unique()\n",
        "average_purchase_by_device = train_df[train_df['purchaseValue'] > 0].groupby('deviceType')['purchaseValue'].mean().sort_values(ascending=False)\n",
        "\n",
        "colors = ['teal', 'orange', 'purple']\n",
        "plt.figure(figsize=(8, 5))\n",
        "plt.bar(average_purchase_by_device.index, average_purchase_by_device.values, color=colors, width=0.40)\n",
        "plt.title('Average Purchase Value vs. Device Type')\n",
        "plt.xlabel('Device Type')\n",
        "plt.ylabel('Average Purchase Value')\n",
        "plt.show()"
      ]
    },
    {
      "cell_type": "markdown",
      "id": "413f2ed1",
      "metadata": {
        "papermill": {
          "duration": 0.022835,
          "end_time": "2025-07-25T13:26:12.396010",
          "exception": false,
          "start_time": "2025-07-25T13:26:12.373175",
          "status": "completed"
        },
        "tags": [],
        "id": "413f2ed1"
      },
      "source": [
        "**Observation**\n",
        "- **Desktop users have the highest average purchase value compared to mobile and tablet users**, indicates a stronger purchasing intent or high value purchases on desktops."
      ]
    },
    {
      "cell_type": "code",
      "execution_count": null,
      "id": "e229dfb5",
      "metadata": {
        "execution": {
          "iopub.execute_input": "2025-07-25T13:26:12.444611Z",
          "iopub.status.busy": "2025-07-25T13:26:12.444278Z",
          "iopub.status.idle": "2025-07-25T13:26:12.627571Z",
          "shell.execute_reply": "2025-07-25T13:26:12.626718Z"
        },
        "papermill": {
          "duration": 0.209269,
          "end_time": "2025-07-25T13:26:12.629139",
          "exception": false,
          "start_time": "2025-07-25T13:26:12.419870",
          "status": "completed"
        },
        "tags": [],
        "id": "e229dfb5",
        "outputId": "b8a98b2b-c677-44ef-aeaa-0c3bb27c7ef4"
      },
      "outputs": [
        {
          "data": {
            "image/png": "[encoded data removed]",
            "text/plain": [
              "<Figure size 1000x500 with 1 Axes>"
            ]
          },
          "metadata": {},
          "output_type": "display_data"
        }
      ],
      "source": [
        "continentPurchase = train_df[train_df['purchaseValue'] > 0].groupby('geoNetwork.continent')['purchaseValue'].mean().sort_values(ascending=False)\n",
        "\n",
        "colors = ['#1f77b4', '#ff7f0e', '#2ca02c', '#d62728', '#9467bd', '#8c564b']\n",
        "plt.figure(figsize=(10, 5))\n",
        "plt.bar(continentPurchase.index, continentPurchase.values, color=colors)\n",
        "plt.title('Average Purchase Value vs. Continent')\n",
        "plt.ylabel('Average Purchase Value')\n",
        "plt.xlabel('Continent')\n",
        "plt.xticks(rotation=45)\n",
        "plt.show()"
      ]
    },
    {
      "cell_type": "markdown",
      "id": "9ca26b33",
      "metadata": {
        "papermill": {
          "duration": 0.025297,
          "end_time": "2025-07-25T13:26:12.678369",
          "exception": false,
          "start_time": "2025-07-25T13:26:12.653072",
          "status": "completed"
        },
        "tags": [],
        "id": "9ca26b33"
      },
      "source": [
        "**Observation**\n",
        "- **Africa has the highest average purchase value** by a significant margin, indicating high value users.\n",
        "- **Europe and (not set) have the lowest average purchase values**, suggesting lower user engagement or purchasing power."
      ]
    },
    {
      "cell_type": "code",
      "execution_count": null,
      "id": "5859b791",
      "metadata": {
        "execution": {
          "iopub.execute_input": "2025-07-25T13:26:12.727789Z",
          "iopub.status.busy": "2025-07-25T13:26:12.727467Z",
          "iopub.status.idle": "2025-07-25T13:26:12.853873Z",
          "shell.execute_reply": "2025-07-25T13:26:12.853079Z"
        },
        "papermill": {
          "duration": 0.153198,
          "end_time": "2025-07-25T13:26:12.855701",
          "exception": false,
          "start_time": "2025-07-25T13:26:12.702503",
          "status": "completed"
        },
        "tags": [],
        "id": "5859b791",
        "outputId": "680b8eff-ee59-4ae3-9aec-0254374b045a"
      },
      "outputs": [
        {
          "data": {
            "image/png": "[encoded data removed]",
            "text/plain": [
              "<Figure size 700x500 with 1 Axes>"
            ]
          },
          "metadata": {},
          "output_type": "display_data"
        }
      ],
      "source": [
        "colors = ['#d62728', '#2ca02c']\n",
        "plt.figure(figsize=(7, 5))\n",
        "plt.bar(['Zero Purchase', 'Non-Zero Purchase'], [(train_df['purchaseValue'] == 0).sum(), (train_df['purchaseValue'] != 0).sum()], width=0.40, color=colors)\n",
        "plt.title('Zero vs. Non-Zero Purchase Count')\n",
        "plt.xlabel('Purchase Status')\n",
        "plt.ylabel('Purchase Count')\n",
        "plt.show()"
      ]
    },
    {
      "cell_type": "markdown",
      "id": "bbf743a6",
      "metadata": {
        "papermill": {
          "duration": 0.024494,
          "end_time": "2025-07-25T13:26:12.906929",
          "exception": false,
          "start_time": "2025-07-25T13:26:12.882435",
          "status": "completed"
        },
        "tags": [],
        "id": "bbf743a6"
      },
      "source": [
        "**Observation**\n",
        "- **Majority of sessions resulted in zero purchases**, indicating low conversion rates.\n",
        "- **Only a small portion made purchases**, highlighting the need for better engagement strategies."
      ]
    },
    {
      "cell_type": "code",
      "execution_count": null,
      "id": "bfb1cfe8",
      "metadata": {
        "execution": {
          "iopub.execute_input": "2025-07-25T13:26:12.957569Z",
          "iopub.status.busy": "2025-07-25T13:26:12.957230Z",
          "iopub.status.idle": "2025-07-25T13:26:13.453951Z",
          "shell.execute_reply": "2025-07-25T13:26:13.453002Z"
        },
        "papermill": {
          "duration": 0.523806,
          "end_time": "2025-07-25T13:26:13.455516",
          "exception": false,
          "start_time": "2025-07-25T13:26:12.931710",
          "status": "completed"
        },
        "tags": [],
        "id": "bfb1cfe8",
        "outputId": "db39f4b2-9b12-4135-d2d8-00c35b7ae9d9"
      },
      "outputs": [
        {
          "data": {
            "image/png": "[encoded data removed]",
            "text/plain": [
              "<Figure size 1000x500 with 1 Axes>"
            ]
          },
          "metadata": {},
          "output_type": "display_data"
        }
      ],
      "source": [
        "plt.figure(figsize=(10, 5))\n",
        "plt.scatter(train_df['pageViews'], train_df['purchaseValue'], alpha=0.3)\n",
        "plt.title('Purchase Value vs. Page Views')\n",
        "plt.xlabel('Page Views')\n",
        "plt.ylabel('Purchase Value')\n",
        "plt.show()"
      ]
    },
    {
      "cell_type": "markdown",
      "id": "a82549f9",
      "metadata": {
        "papermill": {
          "duration": 0.025321,
          "end_time": "2025-07-25T13:26:13.508730",
          "exception": false,
          "start_time": "2025-07-25T13:26:13.483409",
          "status": "completed"
        },
        "tags": [],
        "id": "a82549f9"
      },
      "source": [
        "**Observation**\n",
        "- **Most users have low page views and low purchase values**, indicates limited engagement.\n",
        "- **A few outliers show high purchase values at moderate page views**, indicates that less browsing can also lead to high value purchases."
      ]
    },
    {
      "cell_type": "code",
      "execution_count": null,
      "id": "80665689",
      "metadata": {
        "execution": {
          "iopub.execute_input": "2025-07-25T13:26:13.560671Z",
          "iopub.status.busy": "2025-07-25T13:26:13.560332Z",
          "iopub.status.idle": "2025-07-25T13:26:13.778568Z",
          "shell.execute_reply": "2025-07-25T13:26:13.777680Z"
        },
        "papermill": {
          "duration": 0.246124,
          "end_time": "2025-07-25T13:26:13.780178",
          "exception": false,
          "start_time": "2025-07-25T13:26:13.534054",
          "status": "completed"
        },
        "tags": [],
        "id": "80665689",
        "outputId": "aa14ea9c-7f0a-4a7b-e18a-478b92f832fe"
      },
      "outputs": [
        {
          "data": {
            "image/png": "[encoded data removed]",
            "text/plain": [
              "<Figure size 1000x500 with 1 Axes>"
            ]
          },
          "metadata": {},
          "output_type": "display_data"
        }
      ],
      "source": [
        "averageMedium = train_df[train_df['purchaseValue'] > 0].groupby('trafficSource.medium')['purchaseValue'].mean().sort_values(ascending=False)\n",
        "\n",
        "colors = ['#1f77b4', '#ff7f0e', '#2ca02c', '#d62728', '#9467bd', '#8c564b', '#e377c2']\n",
        "plt.figure(figsize=(10, 5))\n",
        "plt.bar(averageMedium.index, averageMedium.values, color=colors)\n",
        "plt.title('Average Purchase vs. Traffic Medium')\n",
        "plt.xticks(rotation=45)\n",
        "plt.xlabel('Traffic Medium')\n",
        "plt.ylabel('Average Purchase Value')\n",
        "plt.show()"
      ]
    },
    {
      "cell_type": "markdown",
      "id": "67bc383c",
      "metadata": {
        "papermill": {
          "duration": 0.025165,
          "end_time": "2025-07-25T13:26:13.831052",
          "exception": false,
          "start_time": "2025-07-25T13:26:13.805887",
          "status": "completed"
        },
        "tags": [],
        "id": "67bc383c"
      },
      "source": [
        "**Observation**\n",
        "- **CPM (Cost Per Thousand Impressions) drives the highest average purchase value**, significantly best performing over all the other traffic mediums.\n",
        "- **Organic, affiliate, and (not set) mediums yield the lowest average purchase values**, indicates that they are less effective for high value conversions."
      ]
    },
    {
      "cell_type": "code",
      "execution_count": null,
      "id": "1785ee0d",
      "metadata": {
        "execution": {
          "iopub.execute_input": "2025-07-25T13:26:13.883397Z",
          "iopub.status.busy": "2025-07-25T13:26:13.883089Z",
          "iopub.status.idle": "2025-07-25T13:26:13.889423Z",
          "shell.execute_reply": "2025-07-25T13:26:13.888711Z"
        },
        "papermill": {
          "duration": 0.034527,
          "end_time": "2025-07-25T13:26:13.890797",
          "exception": false,
          "start_time": "2025-07-25T13:26:13.856270",
          "status": "completed"
        },
        "tags": [],
        "id": "1785ee0d",
        "outputId": "f1a90c12-c599-40dd-f1df-cef12d0e44f2"
      },
      "outputs": [
        {
          "data": {
            "text/plain": [
              "0    20170714\n",
              "1    20170519\n",
              "2    20171020\n",
              "3    20170103\n",
              "4    20161006\n",
              "Name: date, dtype: int64"
            ]
          },
          "execution_count": 25,
          "metadata": {},
          "output_type": "execute_result"
        }
      ],
      "source": [
        "train_df['date'].head()"
      ]
    },
    {
      "cell_type": "code",
      "execution_count": null,
      "id": "18fbca07",
      "metadata": {
        "execution": {
          "iopub.execute_input": "2025-07-25T13:26:13.943556Z",
          "iopub.status.busy": "2025-07-25T13:26:13.942728Z",
          "iopub.status.idle": "2025-07-25T13:26:14.289394Z",
          "shell.execute_reply": "2025-07-25T13:26:14.288445Z"
        },
        "papermill": {
          "duration": 0.374781,
          "end_time": "2025-07-25T13:26:14.291027",
          "exception": false,
          "start_time": "2025-07-25T13:26:13.916246",
          "status": "completed"
        },
        "tags": [],
        "id": "18fbca07",
        "outputId": "dfd01e1c-9266-4a4c-d7c4-65b963b3d8dc"
      },
      "outputs": [
        {
          "data": {
            "image/png": "[encoded data removed]",
            "text/plain": [
              "<Figure size 1000x500 with 1 Axes>"
            ]
          },
          "metadata": {},
          "output_type": "display_data"
        }
      ],
      "source": [
        "train_df['date'] = pd.to_datetime(train_df['date'].astype(str), format='%Y%m%d')\n",
        "averageDate = train_df[train_df['purchaseValue'] > 0].groupby('date')['purchaseValue'].mean()\n",
        "\n",
        "plt.figure(figsize=(10, 5))\n",
        "plt.plot(averageDate.index, averageDate.values, color='teal')\n",
        "plt.title('Average Purchase Value over Time')\n",
        "plt.xlabel('Date')\n",
        "plt.ylabel('Average Purchase Value')\n",
        "plt.tight_layout()\n",
        "plt.show()"
      ]
    },
    {
      "cell_type": "markdown",
      "id": "bb66719b",
      "metadata": {
        "papermill": {
          "duration": 0.028272,
          "end_time": "2025-07-25T13:26:14.348052",
          "exception": false,
          "start_time": "2025-07-25T13:26:14.319780",
          "status": "completed"
        },
        "tags": [],
        "id": "bb66719b"
      },
      "source": [
        "**Observation**\n",
        "- **The average purchase value varies over time**, with multiple strong spikes reflecting occasional high value purchases.\n",
        "- **Despite the spikes, the overall trend remains relatively constant**, without a clear upward or downward pattern."
      ]
    },
    {
      "cell_type": "code",
      "execution_count": null,
      "id": "dff6e3a3",
      "metadata": {
        "execution": {
          "iopub.execute_input": "2025-07-25T13:26:14.406066Z",
          "iopub.status.busy": "2025-07-25T13:26:14.405727Z",
          "iopub.status.idle": "2025-07-25T13:26:14.672891Z",
          "shell.execute_reply": "2025-07-25T13:26:14.672036Z"
        },
        "papermill": {
          "duration": 0.298337,
          "end_time": "2025-07-25T13:26:14.674323",
          "exception": false,
          "start_time": "2025-07-25T13:26:14.375986",
          "status": "completed"
        },
        "tags": [],
        "id": "dff6e3a3",
        "outputId": "471a875e-30c3-4e5f-c38c-f349fac42db6"
      },
      "outputs": [
        {
          "data": {
            "image/png": "[encoded data removed]",
            "text/plain": [
              "<Figure size 1300x500 with 1 Axes>"
            ]
          },
          "metadata": {},
          "output_type": "display_data"
        }
      ],
      "source": [
        "adsContent = train_df[train_df['purchaseValue'] > 0].groupby('trafficSource.adContent')['purchaseValue'].mean().dropna().sort_values(ascending=False).head(10)\n",
        "\n",
        "colors = ['#1f77b4', '#ff7f0e', '#2ca02c', '#d62728', '#9467bd',\n",
        "          '#8c564b', '#e377c2', '#7f7f7f', '#bcbd22', '#17becf']\n",
        "plt.figure(figsize=(13, 5))\n",
        "plt.bar(adsContent.index, adsContent.values, color=colors)\n",
        "plt.title('Top 10 Performing Ad Campaigns Based on Average Purchase Value')\n",
        "plt.xticks(rotation=90)\n",
        "plt.ylabel('Average Purchase Value')\n",
        "plt.xlabel('Ad Content Campaigns')\n",
        "plt.show()"
      ]
    },
    {
      "cell_type": "markdown",
      "id": "7a54b9c3",
      "metadata": {
        "papermill": {
          "duration": 0.02879,
          "end_time": "2025-07-25T13:26:14.732357",
          "exception": false,
          "start_time": "2025-07-25T13:26:14.703567",
          "status": "completed"
        },
        "tags": [],
        "id": "7a54b9c3"
      },
      "source": [
        "**Observation**\n",
        "- **The Google Merchandise Collection campaign performs best over all the others with the highest average purchase value**, indicating its strong effectiveness for high purchase value conversions.\n",
        "- **There is a slowly decline in performance from top to bottom**, indicating that while multiple campaigns perform well, only the top 2-3 have a much greater influence than the others."
      ]
    },
    {
      "cell_type": "code",
      "execution_count": null,
      "id": "46e681d3",
      "metadata": {
        "execution": {
          "iopub.execute_input": "2025-07-25T13:26:14.790374Z",
          "iopub.status.busy": "2025-07-25T13:26:14.790051Z",
          "iopub.status.idle": "2025-07-25T13:26:15.200403Z",
          "shell.execute_reply": "2025-07-25T13:26:15.199518Z"
        },
        "papermill": {
          "duration": 0.441493,
          "end_time": "2025-07-25T13:26:15.202052",
          "exception": false,
          "start_time": "2025-07-25T13:26:14.760559",
          "status": "completed"
        },
        "tags": [],
        "id": "46e681d3",
        "outputId": "673668b9-29a9-46f8-ad92-0c3f3d483021"
      },
      "outputs": [
        {
          "data": {
            "image/png": "[encoded data removed]",
            "text/plain": [
              "<Figure size 1000x500 with 2 Axes>"
            ]
          },
          "metadata": {},
          "output_type": "display_data"
        }
      ],
      "source": [
        "corr = train_df.select_dtypes(include=['int64', 'float64']).corr()\n",
        "top_corr = corr['purchaseValue'].sort_values(ascending=False).head(6).index\n",
        "\n",
        "plt.figure(figsize=(10, 5))\n",
        "sns.heatmap(train_df[top_corr].corr(), annot=True, cmap='coolwarm', fmt=\".2f\")\n",
        "plt.title('Top Correlated Features with Purchase Value')\n",
        "plt.tight_layout()\n",
        "plt.show()"
      ]
    },
    {
      "cell_type": "markdown",
      "id": "7ac8fdde",
      "metadata": {
        "papermill": {
          "duration": 0.029508,
          "end_time": "2025-07-25T13:26:15.262082",
          "exception": false,
          "start_time": "2025-07-25T13:26:15.232574",
          "status": "completed"
        },
        "tags": [],
        "id": "7ac8fdde"
      },
      "source": [
        "**Observation**\n",
        "- **`totalHits`, `pageViews`, and `sessionNumber` show the strongest positive correlations with `purchaseValue`**, indicates that the user engagement metrics are key indicators of purchase behavior."
      ]
    },
    {
      "cell_type": "code",
      "execution_count": null,
      "id": "fa9cf330",
      "metadata": {
        "execution": {
          "iopub.execute_input": "2025-07-25T13:26:15.323662Z",
          "iopub.status.busy": "2025-07-25T13:26:15.323345Z",
          "iopub.status.idle": "2025-07-25T13:26:15.661334Z",
          "shell.execute_reply": "2025-07-25T13:26:15.660424Z"
        },
        "papermill": {
          "duration": 0.370978,
          "end_time": "2025-07-25T13:26:15.663078",
          "exception": false,
          "start_time": "2025-07-25T13:26:15.292100",
          "status": "completed"
        },
        "tags": [],
        "id": "fa9cf330",
        "outputId": "961ff9a8-99fd-4d1c-ba7e-6a0c4e8a8801"
      },
      "outputs": [
        {
          "data": {
            "image/png": "[encoded data removed]",
            "text/plain": [
              "<Figure size 1000x500 with 1 Axes>"
            ]
          },
          "metadata": {},
          "output_type": "display_data"
        }
      ],
      "source": [
        "plt.figure(figsize=(10, 5))\n",
        "plt.hist(train_df['pageViews'], bins=50, color='teal')\n",
        "plt.title('User Engagement by Page Views')\n",
        "plt.xlabel('Number of Pages Viewed')\n",
        "plt.ylabel('Number of Users')\n",
        "plt.show()"
      ]
    },
    {
      "cell_type": "markdown",
      "id": "b61e708f",
      "metadata": {
        "papermill": {
          "duration": 0.030485,
          "end_time": "2025-07-25T13:26:15.724023",
          "exception": false,
          "start_time": "2025-07-25T13:26:15.693538",
          "status": "completed"
        },
        "tags": [],
        "id": "b61e708f"
      },
      "source": [
        "**Observation**\n",
        "- **Most users view very few pages**, indicating low engagement per session for the majority.\n",
        "- **A small number of users have high page views**, showing there are some highly engaged users."
      ]
    },
    {
      "cell_type": "code",
      "execution_count": null,
      "id": "3cfe9236",
      "metadata": {
        "execution": {
          "iopub.execute_input": "2025-07-25T13:26:15.788987Z",
          "iopub.status.busy": "2025-07-25T13:26:15.788619Z",
          "iopub.status.idle": "2025-07-25T13:26:15.998231Z",
          "shell.execute_reply": "2025-07-25T13:26:15.997164Z"
        },
        "papermill": {
          "duration": 0.244551,
          "end_time": "2025-07-25T13:26:16.000025",
          "exception": false,
          "start_time": "2025-07-25T13:26:15.755474",
          "status": "completed"
        },
        "tags": [],
        "id": "3cfe9236",
        "outputId": "8b3a4de8-9454-45c7-f275-8c7d78dbb2d3"
      },
      "outputs": [
        {
          "data": {
            "image/png": "[encoded data removed]",
            "text/plain": [
              "<Figure size 1000x500 with 1 Axes>"
            ]
          },
          "metadata": {},
          "output_type": "display_data"
        }
      ],
      "source": [
        "browser_avg_purchase = train_df[train_df['purchaseValue'] > 0].groupby('browser')['purchaseValue'].mean()\n",
        "Browser = browser_avg_purchase.sort_values(ascending=False).head(10)\n",
        "\n",
        "colors = ['#1f77b4', '#ff7f0e', '#2ca02c', '#d62728', '#9467bd',\n",
        "          '#8c564b', '#e377c2', '#7f7f7f', '#bcbd22', '#17becf']\n",
        "plt.figure(figsize=(10, 5))\n",
        "plt.bar(Browser.index, Browser.values, color=colors)\n",
        "plt.title('Most Frequently Used Browsers for Purchase')\n",
        "plt.xlabel('Browser Name')\n",
        "plt.ylabel('Average Purchase Value')\n",
        "plt.xticks(rotation=60)\n",
        "plt.show()"
      ]
    },
    {
      "cell_type": "markdown",
      "id": "8f778afb",
      "metadata": {
        "papermill": {
          "duration": 0.032214,
          "end_time": "2025-07-25T13:26:16.066214",
          "exception": false,
          "start_time": "2025-07-25T13:26:16.034000",
          "status": "completed"
        },
        "tags": [],
        "id": "8f778afb"
      },
      "source": [
        "**Observation**\n",
        "- **Firefox has the highest average purchase value by a large margin**, indicating it attract more high value users.\n",
        "- **Browsers like Android Webview and Safari (in-app) have significantly lower average purchase values**, indicating lower user intent or session value on mobile/in-app platforms."
      ]
    },
    {
      "cell_type": "markdown",
      "id": "57a04563",
      "metadata": {
        "papermill": {
          "duration": 0.031823,
          "end_time": "2025-07-25T13:26:16.129923",
          "exception": false,
          "start_time": "2025-07-25T13:26:16.098100",
          "status": "completed"
        },
        "tags": [],
        "id": "57a04563"
      },
      "source": [
        "# **4. Data Cleaning, Preprocessing & Feature Engineering**"
      ]
    },
    {
      "cell_type": "code",
      "execution_count": null,
      "id": "bbc6225a",
      "metadata": {
        "execution": {
          "iopub.execute_input": "2025-07-25T13:26:16.196479Z",
          "iopub.status.busy": "2025-07-25T13:26:16.196167Z",
          "iopub.status.idle": "2025-07-25T13:26:16.690132Z",
          "shell.execute_reply": "2025-07-25T13:26:16.689173Z"
        },
        "papermill": {
          "duration": 0.530427,
          "end_time": "2025-07-25T13:26:16.692114",
          "exception": false,
          "start_time": "2025-07-25T13:26:16.161687",
          "status": "completed"
        },
        "tags": [],
        "id": "bbc6225a",
        "outputId": "afb1b271-b6de-4fe5-b35a-6541d7d0189b"
      },
      "outputs": [
        {
          "data": {
            "image/png": "[encoded data removed]",
            "text/plain": [
              "<Figure size 1300x800 with 1 Axes>"
            ]
          },
          "metadata": {},
          "output_type": "display_data"
        }
      ],
      "source": [
        "nullValuesPercent = round((train_df.isnull().sum()) / train_df.shape[0] * 100, 2)\n",
        "nullValuesPercent = nullValuesPercent[nullValuesPercent > 0].sort_values(ascending=False)\n",
        "\n",
        "plt.figure(figsize=(13, 8))\n",
        "plt.bar(nullValuesPercent.index, nullValuesPercent.values, color='coral')\n",
        "plt.title('Percentage of Missing Values by Column')\n",
        "plt.ylabel('Percentage (%)')\n",
        "plt.xlabel('Features')\n",
        "plt.xticks(rotation=90)\n",
        "plt.tight_layout()\n",
        "plt.show()"
      ]
    },
    {
      "cell_type": "markdown",
      "id": "bfdc8b41",
      "metadata": {
        "papermill": {
          "duration": 0.034116,
          "end_time": "2025-07-25T13:26:16.759964",
          "exception": false,
          "start_time": "2025-07-25T13:26:16.725848",
          "status": "completed"
        },
        "tags": [],
        "id": "bfdc8b41"
      },
      "source": [
        "**Observation**\n",
        "- Calculates the Percentage of null values per columns and identifies columns with **more than 60% missing/null data and drop them**."
      ]
    },
    {
      "cell_type": "code",
      "execution_count": null,
      "id": "5fac7119",
      "metadata": {
        "execution": {
          "iopub.execute_input": "2025-07-25T13:26:16.828794Z",
          "iopub.status.busy": "2025-07-25T13:26:16.828463Z",
          "iopub.status.idle": "2025-07-25T13:26:17.087080Z",
          "shell.execute_reply": "2025-07-25T13:26:17.085957Z"
        },
        "papermill": {
          "duration": 0.294583,
          "end_time": "2025-07-25T13:26:17.088834",
          "exception": false,
          "start_time": "2025-07-25T13:26:16.794251",
          "status": "completed"
        },
        "tags": [],
        "id": "5fac7119",
        "outputId": "5e2ebf55-a090-47fa-c240-0b98a01599b3"
      },
      "outputs": [
        {
          "name": "stdout",
          "output_type": "stream",
          "text": [
            "Dropped columns: ['trafficSource.isTrueDirect', 'trafficSource.adContent', 'trafficSource.keyword', 'trafficSource.adwordsClickInfo.slot', 'trafficSource.adwordsClickInfo.isVideoAd', 'trafficSource.adwordsClickInfo.adNetworkType', 'trafficSource.adwordsClickInfo.page', 'trafficSource.referralPath']\n"
          ]
        }
      ],
      "source": [
        "nullPercent = (train_df.isnull().sum() / train_df.shape[0]) * 100\n",
        "column = nullPercent[nullPercent > 60].index\n",
        "train_df.drop(columns=column, inplace=True)\n",
        "\n",
        "print(\"Dropped columns:\", list(column))"
      ]
    },
    {
      "cell_type": "markdown",
      "id": "5f684794",
      "metadata": {
        "papermill": {
          "duration": 0.03265,
          "end_time": "2025-07-25T13:26:17.154749",
          "exception": false,
          "start_time": "2025-07-25T13:26:17.122099",
          "status": "completed"
        },
        "tags": [],
        "id": "5f684794"
      },
      "source": [
        "**Observation**\n",
        "- Drops the **Duplicates rows** from the Train dataset."
      ]
    },
    {
      "cell_type": "code",
      "execution_count": null,
      "id": "c3946bdf",
      "metadata": {
        "execution": {
          "iopub.execute_input": "2025-07-25T13:26:17.233188Z",
          "iopub.status.busy": "2025-07-25T13:26:17.232841Z",
          "iopub.status.idle": "2025-07-25T13:26:17.622160Z",
          "shell.execute_reply": "2025-07-25T13:26:17.620797Z"
        },
        "papermill": {
          "duration": 0.435027,
          "end_time": "2025-07-25T13:26:17.624383",
          "exception": false,
          "start_time": "2025-07-25T13:26:17.189356",
          "status": "completed"
        },
        "tags": [],
        "id": "c3946bdf",
        "outputId": "15429031-a492-4db3-c064-e0da111023e9"
      },
      "outputs": [
        {
          "name": "stdout",
          "output_type": "stream",
          "text": [
            "Successfully removed 236 duplicate rows!\n"
          ]
        }
      ],
      "source": [
        "train_df = train_df.drop_duplicates()\n",
        "print(f\"Successfully removed {duplicatesCount} duplicate rows!\")"
      ]
    },
    {
      "cell_type": "markdown",
      "id": "9e45c27e",
      "metadata": {
        "papermill": {
          "duration": 0.032929,
          "end_time": "2025-07-25T13:26:17.691663",
          "exception": false,
          "start_time": "2025-07-25T13:26:17.658734",
          "status": "completed"
        },
        "tags": [],
        "id": "9e45c27e"
      },
      "source": [
        "**Observation**\n",
        "\n",
        "* **`userAveragePurchase`**: Average purchase amount per user, based only on non-zero purchase sessions.\n",
        "\n",
        "* **`userEngagementScore`**: Weighted metric combining page views and total hits, normalized by session count.\n",
        "\n",
        "* **`pageViews (log1p)`**: Log-transformed number of pages viewed in a session to reduce skewness.\n",
        "\n",
        "* **`totalHits (log1p)`**: Log-transformed total hits during the session for normalization.\n",
        "\n",
        "* **`sessionNumber (log1p)`**: Log-transformed session count to stabilize distribution.\n",
        "\n",
        "* **`hour`**: Hour of day (0–23) extracted from session start time.\n",
        "\n",
        "* **`weekday`**: Day of the week (0 = Monday, 6 = Sunday) from session start time.\n",
        "\n",
        "* **`month`**: Calendar month (1–12) extracted from session start timestamp.\n",
        "\n",
        "* **`isWorkingHour`**: Binary flag indicating if the session occurred during typical work hours (9 AM – 5 PM).\n",
        "\n",
        "* **`viewTimesSession`**: Interaction term combining page views and session number.\n",
        "\n",
        "* **`viewTimesHits`**: Interaction term combining page views and total hits.\n",
        "\n",
        "* **`sessionTimesHits`**: Interaction term between session count and total hits.\n",
        "\n",
        "* **`hitsToPageViews`**: Ratio of total hits to page views — indicates interaction depth per page.\n",
        "\n",
        "* **`sessionRecordCount`**: Number of times the same sessionId appears — useful for multi-record sessions.\n",
        "\n",
        "* **`returningUser`**: Binary flag indicating if the user viewed more than 1 page in a session.\n",
        "\n",
        "* **`avgActivityPerSession`**: Mean of total activity (page views + hits) divided by session number.\n",
        "\n",
        "* **`viewHitRatioPerSession`**: Compound metric capturing how view-hit interactions scale with sessions.\n",
        "\n",
        "* **`totalUserActivityScore`**: Product of interaction efficiency (hits/page) and average activity per session.\n",
        "\n",
        "* **`sessionEngagement`**: Total session-level engagement based on session count and its recurrence."
      ]
    },
    {
      "cell_type": "code",
      "execution_count": null,
      "id": "7200d8b5",
      "metadata": {
        "execution": {
          "iopub.execute_input": "2025-07-25T13:26:17.758540Z",
          "iopub.status.busy": "2025-07-25T13:26:17.757768Z",
          "iopub.status.idle": "2025-07-25T13:26:17.899117Z",
          "shell.execute_reply": "2025-07-25T13:26:17.897959Z"
        },
        "papermill": {
          "duration": 0.176625,
          "end_time": "2025-07-25T13:26:17.900829",
          "exception": false,
          "start_time": "2025-07-25T13:26:17.724204",
          "status": "completed"
        },
        "tags": [],
        "id": "7200d8b5"
      },
      "outputs": [],
      "source": [
        "avgUserPurchase = train_df[train_df['purchaseValue'] > 0].groupby('userId')['purchaseValue'].mean()\n",
        "train_df['userAveragePurchase'] = train_df['userId'].map(avgUserPurchase).fillna(avgUserPurchase.median())\n",
        "\n",
        "def newFeatures(train_df):\n",
        "    train_df['userEngagementScore'] = (train_df['pageViews'] * 2 + train_df['totalHits'] * 2) / (train_df['sessionNumber'] + 1e-5)\n",
        "\n",
        "    train_df['pageViews'] = np.log1p(train_df['pageViews'])\n",
        "    train_df['totalHits'] = np.log1p(train_df['totalHits'])\n",
        "    train_df['sessionNumber'] = np.log1p(train_df['sessionNumber'])\n",
        "\n",
        "    ts = pd.to_datetime(train_df['sessionStart'], unit='s')\n",
        "    train_df['hour'] = ts.dt.hour\n",
        "    train_df['weekday'] = ts.dt.weekday\n",
        "    train_df['month'] = ts.dt.month\n",
        "    train_df['isWorkingHour'] = train_df['hour'].between(9, 17).astype(int)\n",
        "\n",
        "    train_df['viewTimesSession'] = train_df['pageViews'] * train_df['sessionNumber']\n",
        "    train_df['viewTimesHits'] = train_df['pageViews'] * train_df['totalHits']\n",
        "    train_df['sessionTimesHits'] = train_df['sessionNumber'] * train_df['totalHits']\n",
        "    train_df['hitsToPageViews'] = train_df['totalHits'] / (train_df['pageViews'] + 1e-4)\n",
        "\n",
        "    train_df['sessionRecordCount'] = train_df.groupby('sessionId')['sessionNumber'].transform('count')\n",
        "\n",
        "    train_df['returningUser'] = (train_df['pageViews'] > 1).astype(int)\n",
        "\n",
        "    train_df['avgActivityPerSession'] = (train_df['pageViews'] + train_df['totalHits']) / (train_df['sessionNumber'] + 1)\n",
        "    train_df['viewHitRatioPerSession'] = train_df['viewTimesHits'] / (train_df['sessionNumber'] + 1e-5)\n",
        "    train_df['totalUserActivityScore'] = train_df['hitsToPageViews'] * train_df['avgActivityPerSession']\n",
        "    train_df['sessionEngagement'] = train_df['sessionNumber'] * train_df['sessionRecordCount']\n",
        "\n",
        "    # Today\n",
        "\n",
        "    return train_df\n",
        "\n",
        "train_df = newFeatures(train_df)"
      ]
    },
    {
      "cell_type": "markdown",
      "id": "48c3e061",
      "metadata": {
        "papermill": {
          "duration": 0.034156,
          "end_time": "2025-07-25T13:26:17.970242",
          "exception": false,
          "start_time": "2025-07-25T13:26:17.936086",
          "status": "completed"
        },
        "tags": [],
        "id": "48c3e061"
      },
      "source": [
        "**Observation**\n",
        "\n",
        "- **featuresDropping function** removes columns that are either have **1 unique values** or **over 10% uninformative values** like `\"not available in demo dataset\"` or `\"(not set)\"`, helping reduce noise and irrelevant columns from the dataset."
      ]
    },
    {
      "cell_type": "code",
      "execution_count": null,
      "id": "cbc95655",
      "metadata": {
        "execution": {
          "iopub.execute_input": "2025-07-25T13:26:18.037110Z",
          "iopub.status.busy": "2025-07-25T13:26:18.036788Z",
          "iopub.status.idle": "2025-07-25T13:26:18.948938Z",
          "shell.execute_reply": "2025-07-25T13:26:18.947947Z"
        },
        "papermill": {
          "duration": 0.947522,
          "end_time": "2025-07-25T13:26:18.950586",
          "exception": false,
          "start_time": "2025-07-25T13:26:18.003064",
          "status": "completed"
        },
        "tags": [],
        "id": "cbc95655"
      },
      "outputs": [],
      "source": [
        "def featuresDropping(train_df):\n",
        "    featuresList = []\n",
        "    for col in train_df.columns:\n",
        "        if train_df[col].nunique(dropna=False) == 1:\n",
        "            featuresList.append(col)\n",
        "        elif train_df[col].isin(['not available in demo dataset', '(not set)']).sum() > 0.1 * len(train_df):\n",
        "            featuresList.append(col)\n",
        "\n",
        "    train_df = train_df.drop(columns=featuresList, errors='ignore')\n",
        "\n",
        "    return train_df\n",
        "\n",
        "train_df = featuresDropping(train_df)"
      ]
    },
    {
      "cell_type": "code",
      "execution_count": null,
      "id": "c76bf6ba",
      "metadata": {
        "execution": {
          "iopub.execute_input": "2025-07-25T13:26:19.019432Z",
          "iopub.status.busy": "2025-07-25T13:26:19.019077Z",
          "iopub.status.idle": "2025-07-25T13:26:19.038080Z",
          "shell.execute_reply": "2025-07-25T13:26:19.036937Z"
        },
        "papermill": {
          "duration": 0.056064,
          "end_time": "2025-07-25T13:26:19.039682",
          "exception": false,
          "start_time": "2025-07-25T13:26:18.983618",
          "status": "completed"
        },
        "tags": [],
        "id": "c76bf6ba"
      },
      "outputs": [],
      "source": [
        "train_df.drop(columns=['userId',\n",
        "                       'sessionId',\n",
        "                       'sessionStart',\n",
        "                       'date',\n",
        "                       'device.isMobile',\n",
        "                       'locationCountry',\n",
        "                       'geoNetwork.subContinent',\n",
        "                       'geoCluster',\n",
        "                       'os',\n",
        "                       'gclIdPresent',\n",
        "                       'trafficSource',\n",
        "                       'userChannel',\n",
        "                       'geoNetwork.networkDomain',\n",
        "                       'totals.bounces',\n",
        "                       'new_visits'],\n",
        "              inplace=True)"
      ]
    },
    {
      "cell_type": "markdown",
      "id": "a15eb8cc",
      "metadata": {
        "papermill": {
          "duration": 0.031733,
          "end_time": "2025-07-25T13:26:19.103273",
          "exception": false,
          "start_time": "2025-07-25T13:26:19.071540",
          "status": "completed"
        },
        "tags": [],
        "id": "a15eb8cc"
      },
      "source": [
        "**Observation**\n",
        "\n",
        "- The train dataset is split into **X (features)** and **y (purchaseValue target variable)** for model training.\n",
        "- Data is split into **80% training and 20% testing sets** using a fixed `random_state=42`."
      ]
    },
    {
      "cell_type": "code",
      "execution_count": null,
      "id": "cd749308",
      "metadata": {
        "execution": {
          "iopub.execute_input": "2025-07-25T13:26:19.168809Z",
          "iopub.status.busy": "2025-07-25T13:26:19.168469Z",
          "iopub.status.idle": "2025-07-25T13:26:19.226305Z",
          "shell.execute_reply": "2025-07-25T13:26:19.225246Z"
        },
        "papermill": {
          "duration": 0.092727,
          "end_time": "2025-07-25T13:26:19.228108",
          "exception": false,
          "start_time": "2025-07-25T13:26:19.135381",
          "status": "completed"
        },
        "tags": [],
        "id": "cd749308"
      },
      "outputs": [],
      "source": [
        "X = train_df.drop(columns=['purchaseValue'])\n",
        "y = train_df['purchaseValue']\n",
        "\n",
        "X_train, X_test, y_train, y_test = train_test_split(X, y, test_size=0.2, random_state=42)"
      ]
    },
    {
      "cell_type": "code",
      "execution_count": null,
      "id": "d1bb6c37",
      "metadata": {
        "execution": {
          "iopub.execute_input": "2025-07-25T13:26:19.293861Z",
          "iopub.status.busy": "2025-07-25T13:26:19.293572Z",
          "iopub.status.idle": "2025-07-25T13:26:19.340937Z",
          "shell.execute_reply": "2025-07-25T13:26:19.339762Z"
        },
        "papermill": {
          "duration": 0.082195,
          "end_time": "2025-07-25T13:26:19.342570",
          "exception": false,
          "start_time": "2025-07-25T13:26:19.260375",
          "status": "completed"
        },
        "tags": [],
        "id": "d1bb6c37",
        "outputId": "202d8685-c7b5-40c8-d25a-52415288304a"
      },
      "outputs": [
        {
          "name": "stdout",
          "output_type": "stream",
          "text": [
            "<class 'pandas.core.frame.DataFrame'>\n",
            "Index: 115787 entries, 0 to 116022\n",
            "Data columns (total 23 columns):\n",
            " #   Column                  Non-Null Count   Dtype  \n",
            "---  ------                  --------------   -----  \n",
            " 0   browser                 115787 non-null  object \n",
            " 1   sessionNumber           115787 non-null  float64\n",
            " 2   trafficSource.medium    115787 non-null  object \n",
            " 3   pageViews               115779 non-null  float64\n",
            " 4   deviceType              115787 non-null  object \n",
            " 5   totalHits               115787 non-null  float64\n",
            " 6   geoNetwork.continent    115787 non-null  object \n",
            " 7   userAveragePurchase     115787 non-null  float64\n",
            " 8   userEngagementScore     115779 non-null  float64\n",
            " 9   hour                    115787 non-null  int32  \n",
            " 10  weekday                 115787 non-null  int32  \n",
            " 11  month                   115787 non-null  int32  \n",
            " 12  isWorkingHour           115787 non-null  int64  \n",
            " 13  viewTimesSession        115779 non-null  float64\n",
            " 14  viewTimesHits           115779 non-null  float64\n",
            " 15  sessionTimesHits        115787 non-null  float64\n",
            " 16  hitsToPageViews         115779 non-null  float64\n",
            " 17  sessionRecordCount      115787 non-null  int64  \n",
            " 18  returningUser           115787 non-null  int64  \n",
            " 19  avgActivityPerSession   115779 non-null  float64\n",
            " 20  viewHitRatioPerSession  115779 non-null  float64\n",
            " 21  totalUserActivityScore  115779 non-null  float64\n",
            " 22  sessionEngagement       115787 non-null  float64\n",
            "dtypes: float64(13), int32(3), int64(3), object(4)\n",
            "memory usage: 19.9+ MB\n"
          ]
        }
      ],
      "source": [
        "X.info()"
      ]
    },
    {
      "cell_type": "markdown",
      "id": "dfecc774",
      "metadata": {
        "papermill": {
          "duration": 0.032814,
          "end_time": "2025-07-25T13:26:19.407561",
          "exception": false,
          "start_time": "2025-07-25T13:26:19.374747",
          "status": "completed"
        },
        "tags": [],
        "id": "dfecc774"
      },
      "source": [
        "**Observation**\n",
        "\n",
        "- Numerical (int64, float64) and categorical (object) features are identified separately for targeted preprocessing.\n",
        "- **Numerical features:** Missing values filled with median, then standardized using StandardScaler.\n",
        "- **Categorical features:** Missing values filled with 'missing', then converted using one-hot encoding.\n",
        "- **ColumnTransformer**: Applies this pipeline for both numerical and categorical features."
      ]
    },
    {
      "cell_type": "code",
      "execution_count": null,
      "id": "2a1d0a91",
      "metadata": {
        "execution": {
          "iopub.execute_input": "2025-07-25T13:26:19.479822Z",
          "iopub.status.busy": "2025-07-25T13:26:19.479412Z",
          "iopub.status.idle": "2025-07-25T13:26:19.512284Z",
          "shell.execute_reply": "2025-07-25T13:26:19.511347Z"
        },
        "papermill": {
          "duration": 0.068479,
          "end_time": "2025-07-25T13:26:19.513949",
          "exception": false,
          "start_time": "2025-07-25T13:26:19.445470",
          "status": "completed"
        },
        "tags": [],
        "id": "2a1d0a91"
      },
      "outputs": [],
      "source": [
        "numericalFeatures = X.select_dtypes(include=['int64', 'float64']).columns.tolist()\n",
        "categoricalFeatures = X.select_dtypes(include=['object']).columns.tolist()\n",
        "\n",
        "numericalTransformer = Pipeline(steps=[\n",
        "    ('imputer', SimpleImputer(strategy='median')),\n",
        "    ('scaler', StandardScaler())])\n",
        "\n",
        "categoricalTransformer = Pipeline(steps=[\n",
        "    ('imputer', SimpleImputer(strategy='constant', fill_value='missing')),\n",
        "    ('onehot', OneHotEncoder(handle_unknown='ignore'))])\n",
        "\n",
        "preprocessor_1 = ColumnTransformer(transformers=[\n",
        "        ('num', numericalTransformer, numericalFeatures),\n",
        "        ('cat', categoricalTransformer, categoricalFeatures)])"
      ]
    },
    {
      "cell_type": "markdown",
      "id": "3fc3fe0d",
      "metadata": {
        "papermill": {
          "duration": 0.032496,
          "end_time": "2025-07-25T13:26:19.579295",
          "exception": false,
          "start_time": "2025-07-25T13:26:19.546799",
          "status": "completed"
        },
        "tags": [],
        "id": "3fc3fe0d"
      },
      "source": [
        "**Observation**\n",
        "\n",
        "- Strongly correlated (`bestFeatures`) and weakly correlated (`extraFeatures`) numerical features are handled with separate preprocessing pipelines.\n",
        "- Applies PolynomialFeatures (interaction only) only to `bestFeatures` to capture their combined effects and non-linear relationships.\n",
        "- Standard scaling is applied to both numeric groups to normalize the data and improve model performance.\n",
        "- Categorical features are imputed and one-hot encoded, and the entire pipeline processes all feature groups (`bestFeatures`, `extraFeatures`, `categoricalFeatures`) in preparation for model training."
      ]
    },
    {
      "cell_type": "code",
      "execution_count": null,
      "id": "dc5d9cd5",
      "metadata": {
        "execution": {
          "iopub.execute_input": "2025-07-25T13:26:19.648770Z",
          "iopub.status.busy": "2025-07-25T13:26:19.648458Z",
          "iopub.status.idle": "2025-07-25T13:26:19.823289Z",
          "shell.execute_reply": "2025-07-25T13:26:19.822523Z"
        },
        "papermill": {
          "duration": 0.211422,
          "end_time": "2025-07-25T13:26:19.825033",
          "exception": false,
          "start_time": "2025-07-25T13:26:19.613611",
          "status": "completed"
        },
        "tags": [],
        "id": "dc5d9cd5"
      },
      "outputs": [],
      "source": [
        "numericCorr = train_df.select_dtypes(include='number').corr()['purchaseValue']\n",
        "numericCorr = numericCorr.drop('purchaseValue').sort_values(ascending=False)\n",
        "numericFeatures = numericCorr.index.to_list()\n",
        "bestFeatures = numericCorr[numericCorr.values > 0].index.to_list()\n",
        "extraFeatures = list(set(numericFeatures) - set(bestFeatures))\n",
        "\n",
        "bestFeaturesPipe = Pipeline(steps=[\n",
        "    ('imputer', SimpleImputer(strategy='median')),\n",
        "    ('poly', PolynomialFeatures(degree=2, include_bias=False, interaction_only=True)),\n",
        "    ('scaler', StandardScaler())\n",
        "])\n",
        "\n",
        "extraFeaturesPipe = Pipeline(steps=[\n",
        "    ('imputer', SimpleImputer(strategy='median')),\n",
        "    ('scaler', StandardScaler())\n",
        "])\n",
        "\n",
        "categoricalPipe = Pipeline(steps=[\n",
        "    ('imputer', SimpleImputer(strategy='most_frequent')),\n",
        "    ('onehot', OneHotEncoder(handle_unknown='ignore', sparse_output=False))\n",
        "])\n",
        "\n",
        "preprocessor_2 = ColumnTransformer([\n",
        "    ('important_numeric', bestFeaturesPipe, bestFeatures),\n",
        "    ('other_numeric', extraFeaturesPipe, extraFeatures),\n",
        "    ('categorical', categoricalPipe, categoricalFeatures)\n",
        "], remainder='passthrough')"
      ]
    },
    {
      "cell_type": "markdown",
      "id": "5fdc308b",
      "metadata": {
        "papermill": {
          "duration": 0.032667,
          "end_time": "2025-07-25T13:26:19.890161",
          "exception": false,
          "start_time": "2025-07-25T13:26:19.857494",
          "status": "completed"
        },
        "tags": [],
        "id": "5fdc308b"
      },
      "source": [
        "# **5. Model Training**"
      ]
    },
    {
      "cell_type": "markdown",
      "id": "3399475c",
      "metadata": {
        "papermill": {
          "duration": 0.03232,
          "end_time": "2025-07-25T13:26:19.955175",
          "exception": false,
          "start_time": "2025-07-25T13:26:19.922855",
          "status": "completed"
        },
        "tags": [],
        "id": "3399475c"
      },
      "source": [
        "## **5.1 DummyRegressor Model as Baseline**"
      ]
    },
    {
      "cell_type": "code",
      "execution_count": null,
      "id": "2481fcda",
      "metadata": {
        "execution": {
          "iopub.execute_input": "2025-07-25T13:26:20.024887Z",
          "iopub.status.busy": "2025-07-25T13:26:20.024567Z",
          "iopub.status.idle": "2025-07-25T13:26:20.032130Z",
          "shell.execute_reply": "2025-07-25T13:26:20.031070Z"
        },
        "papermill": {
          "duration": 0.045809,
          "end_time": "2025-07-25T13:26:20.033613",
          "exception": false,
          "start_time": "2025-07-25T13:26:19.987804",
          "status": "completed"
        },
        "tags": [],
        "id": "2481fcda",
        "outputId": "e37cf6ec-5096-4fa3-fb15-ed6d7c5f5bf8"
      },
      "outputs": [
        {
          "name": "stdout",
          "output_type": "stream",
          "text": [
            "Dummy Regressor R2 Score: -0.0001\n"
          ]
        }
      ],
      "source": [
        "dummyModel = DummyRegressor()\n",
        "dummyModel.fit(X_train, y_train)\n",
        "\n",
        "print(\"Dummy Regressor R2 Score:\", round((dummyModel.score(X_test, y_test)), 4))"
      ]
    },
    {
      "cell_type": "markdown",
      "id": "654d9d5a",
      "metadata": {
        "papermill": {
          "duration": 0.032877,
          "end_time": "2025-07-25T13:26:20.099108",
          "exception": false,
          "start_time": "2025-07-25T13:26:20.066231",
          "status": "completed"
        },
        "tags": [],
        "id": "654d9d5a"
      },
      "source": [
        "## **5.2 LinearRegreesion Model**"
      ]
    },
    {
      "cell_type": "markdown",
      "id": "7cc529ce",
      "metadata": {
        "papermill": {
          "duration": 0.033406,
          "end_time": "2025-07-25T13:26:20.165711",
          "exception": false,
          "start_time": "2025-07-25T13:26:20.132305",
          "status": "completed"
        },
        "tags": [],
        "id": "7cc529ce"
      },
      "source": [
        "**Observation**\n",
        "- A Linear Regression model was trained using the preprocessed features.\n",
        "  \n",
        "- The model achieved an R² score of **0.4909** on the Validation set.\n",
        "\n",
        "- Used Linear Regressing Model as a basic starting model to check how well data preprocessing works. (Not LR)"
      ]
    },
    {
      "cell_type": "code",
      "execution_count": null,
      "id": "9d61a4a7",
      "metadata": {
        "execution": {
          "iopub.execute_input": "2025-07-25T13:26:20.235348Z",
          "iopub.status.busy": "2025-07-25T13:26:20.235031Z",
          "iopub.status.idle": "2025-07-25T13:26:21.327168Z",
          "shell.execute_reply": "2025-07-25T13:26:21.326000Z"
        },
        "papermill": {
          "duration": 1.128841,
          "end_time": "2025-07-25T13:26:21.328694",
          "exception": false,
          "start_time": "2025-07-25T13:26:20.199853",
          "status": "completed"
        },
        "tags": [],
        "id": "9d61a4a7",
        "outputId": "bc536571-e169-4c10-c4de-ba0641f0efbf"
      },
      "outputs": [
        {
          "name": "stdout",
          "output_type": "stream",
          "text": [
            "LinearRegression R2 Score: 0.4909\n"
          ]
        }
      ],
      "source": [
        "linearRegressionModel = Pipeline(steps=[\n",
        "    ('preprocessor', preprocessor_1),\n",
        "    ('regressor', LinearRegression(n_jobs=-1))])\n",
        "\n",
        "linearRegressionModel.fit(X_train, y_train)\n",
        "print(\"LinearRegression R2 Score:\", round((linearRegressionModel.score(X_test, y_test)), 4)) #0.4909"
      ]
    },
    {
      "cell_type": "markdown",
      "id": "8dad0ccc",
      "metadata": {
        "papermill": {
          "duration": 0.031897,
          "end_time": "2025-07-25T13:26:21.396770",
          "exception": false,
          "start_time": "2025-07-25T13:26:21.364873",
          "status": "completed"
        },
        "tags": [],
        "id": "8dad0ccc"
      },
      "source": [
        "## **5.3 RandomForest Regressor Model**"
      ]
    },
    {
      "cell_type": "markdown",
      "id": "e3ea6379",
      "metadata": {
        "papermill": {
          "duration": 0.033151,
          "end_time": "2025-07-25T13:26:21.462829",
          "exception": false,
          "start_time": "2025-07-25T13:26:21.429678",
          "status": "completed"
        },
        "tags": [],
        "id": "e3ea6379"
      },
      "source": [
        "**Observation**\n",
        "- Random Forest Regressor with 50 estimators and max depth of 6 was trained using preprocessed data.\n",
        "  \n",
        "- The model achieved an R² score of **0.6208** on the Validation set, showing better performance than Linear Regression.\n",
        "\n",
        "- Used Random Forest model for its ability to handle non-linear relationships and reduce overfitting."
      ]
    },
    {
      "cell_type": "code",
      "execution_count": null,
      "id": "40a06f60",
      "metadata": {
        "execution": {
          "iopub.execute_input": "2025-07-25T13:26:21.528800Z",
          "iopub.status.busy": "2025-07-25T13:26:21.528412Z",
          "iopub.status.idle": "2025-07-25T13:26:31.330781Z",
          "shell.execute_reply": "2025-07-25T13:26:31.329682Z"
        },
        "papermill": {
          "duration": 9.837548,
          "end_time": "2025-07-25T13:26:31.332541",
          "exception": false,
          "start_time": "2025-07-25T13:26:21.494993",
          "status": "completed"
        },
        "tags": [],
        "id": "40a06f60",
        "outputId": "ba8e0777-1b7e-4688-9d45-cc3fba153654"
      },
      "outputs": [
        {
          "name": "stdout",
          "output_type": "stream",
          "text": [
            "RandomForest R2 Score: 0.6208\n"
          ]
        }
      ],
      "source": [
        "randomForestModel = Pipeline(steps=[\n",
        "    ('preprocessor', preprocessor_1),\n",
        "    ('regressor', RandomForestRegressor(n_estimators=50, max_depth=6, n_jobs=-1, random_state=42))])\n",
        "\n",
        "randomForestModel.fit(X_train, y_train)\n",
        "print(\"RandomForest R2 Score:\", round((randomForestModel.score(X_test, y_test)), 4)) #0.6208"
      ]
    },
    {
      "cell_type": "markdown",
      "id": "43c3b88b",
      "metadata": {
        "papermill": {
          "duration": 0.032377,
          "end_time": "2025-07-25T13:26:31.397616",
          "exception": false,
          "start_time": "2025-07-25T13:26:31.365239",
          "status": "completed"
        },
        "tags": [],
        "id": "43c3b88b"
      },
      "source": [
        "## **5.4 Xgboost Regressor Model**"
      ]
    },
    {
      "cell_type": "markdown",
      "id": "1a19bb87",
      "metadata": {
        "papermill": {
          "duration": 0.033632,
          "end_time": "2025-07-25T13:26:31.464740",
          "exception": false,
          "start_time": "2025-07-25T13:26:31.431108",
          "status": "completed"
        },
        "tags": [],
        "id": "1a19bb87"
      },
      "source": [
        "**Observation**\n",
        "\n",
        "- The model achieved **R² score of 0.7416** on the validation set, showing the best performance among all other models.\n",
        "\n",
        "- Used XGBoost Regressor for its ability to handle complex non-linear relationships, manage missing data internally, and provide built-in regularization to reduce overfitting."
      ]
    },
    {
      "cell_type": "code",
      "execution_count": null,
      "id": "72ea51b0",
      "metadata": {
        "execution": {
          "iopub.execute_input": "2025-07-25T13:26:31.533064Z",
          "iopub.status.busy": "2025-07-25T13:26:31.532727Z",
          "iopub.status.idle": "2025-07-25T13:27:00.636999Z",
          "shell.execute_reply": "2025-07-25T13:27:00.635912Z"
        },
        "papermill": {
          "duration": 29.141583,
          "end_time": "2025-07-25T13:27:00.638773",
          "exception": false,
          "start_time": "2025-07-25T13:26:31.497190",
          "status": "completed"
        },
        "tags": [],
        "id": "72ea51b0",
        "outputId": "843c007d-69df-43ad-e2f4-39df6d105014"
      },
      "outputs": [
        {
          "name": "stdout",
          "output_type": "stream",
          "text": [
            "XGBRegressor R2 Score: 0.7416\n"
          ]
        }
      ],
      "source": [
        "xgModel = Pipeline(steps=[\n",
        "    ('preprocessor', preprocessor_2),\n",
        "    ('regressor', XGBRegressor(learning_rate=0.1,\n",
        "                               max_depth=7,\n",
        "                               n_estimators=835,\n",
        "                               random_state=42,\n",
        "                               n_jobs=-1))])\n",
        "\n",
        "xgModel.fit(X_train, y_train)\n",
        "print(\"XGBRegressor R2 Score:\", round((xgModel.score(X_test, y_test)), 4))\n",
        "\n",
        "#0.7416 - 0.79075 on test"
      ]
    },
    {
      "cell_type": "markdown",
      "id": "5fde2ca0",
      "metadata": {
        "papermill": {
          "duration": 0.033363,
          "end_time": "2025-07-25T13:27:00.707254",
          "exception": false,
          "start_time": "2025-07-25T13:27:00.673891",
          "status": "completed"
        },
        "tags": [],
        "id": "5fde2ca0"
      },
      "source": [
        "## **5.5 Hyperparameter Tunning for XGBoost Model**"
      ]
    },
    {
      "cell_type": "markdown",
      "id": "7be9fda2",
      "metadata": {
        "papermill": {
          "duration": 0.032513,
          "end_time": "2025-07-25T13:27:00.772503",
          "exception": false,
          "start_time": "2025-07-25T13:27:00.739990",
          "status": "completed"
        },
        "tags": [],
        "id": "7be9fda2"
      },
      "source": [
        "**Observation**\n",
        "\n",
        "- Used RandomizedSearchCV to tune the hyperparameters of the XGBoost Regressor using 5-fold cross-validation.\n",
        "\n",
        "- The model searched over a wide range of values for key parameters such as n_estimators, max_depth, learning_rate, reg_alpha, and reg_lambda."
      ]
    },
    {
      "cell_type": "markdown",
      "id": "1ac8044c",
      "metadata": {
        "execution": {
          "iopub.execute_input": "2025-07-17T05:29:15.970526Z",
          "iopub.status.busy": "2025-07-17T05:29:15.970188Z",
          "iopub.status.idle": "2025-07-17T05:29:15.975020Z",
          "shell.execute_reply": "2025-07-17T05:29:15.974199Z",
          "shell.execute_reply.started": "2025-07-17T05:29:15.970474Z"
        },
        "papermill": {
          "duration": 0.033152,
          "end_time": "2025-07-25T13:27:00.838356",
          "exception": false,
          "start_time": "2025-07-25T13:27:00.805204",
          "status": "completed"
        },
        "tags": [],
        "id": "1ac8044c"
      },
      "source": [
        "```python\n",
        "params = {\n",
        "    'regressor__n_estimators': randint(200, 1000),\n",
        "    'regressor__max_depth': randint(3, 10),\n",
        "    'regressor__learning_rate': uniform(0.01, 0.2)\n",
        "}\n",
        "\n",
        "xgb = Pipeline(steps=[\n",
        "    ('preprocessor', preprocessor_2),\n",
        "    ('regressor', XGBRegressor(random_state=42, n_jobs=-1))\n",
        "])\n",
        "\n",
        "search = RandomizedSearchCV(\n",
        "    estimator=xgb,\n",
        "    param_distributions=params,\n",
        "    n_iter=50,\n",
        "    scoring='r2',\n",
        "    cv=5,\n",
        "    verbose=1,\n",
        "    random_state=42,\n",
        "    n_jobs=-1\n",
        ")\n",
        "\n",
        "search.fit(X_train, y_train)\n",
        "\n",
        "print(\"Best Parameters:\", search.best_params_)\n",
        "XgbSearchModel = search.best_estimator_\n",
        "print(\"Tuned R2 Score:\", round(XgbSearchModel.score(X_test, y_test), 4))"
      ]
    },
    {
      "cell_type": "markdown",
      "id": "87667848",
      "metadata": {
        "papermill": {
          "duration": 0.033607,
          "end_time": "2025-07-25T13:27:00.905948",
          "exception": false,
          "start_time": "2025-07-25T13:27:00.872341",
          "status": "completed"
        },
        "tags": [],
        "id": "87667848"
      },
      "source": [
        "## **5.6 Model Comparison**"
      ]
    },
    {
      "cell_type": "markdown",
      "id": "b157f37d",
      "metadata": {
        "papermill": {
          "duration": 0.033197,
          "end_time": "2025-07-25T13:27:00.972808",
          "exception": false,
          "start_time": "2025-07-25T13:27:00.939611",
          "status": "completed"
        },
        "tags": [],
        "id": "b157f37d"
      },
      "source": [
        "**Observation**\n",
        "\n",
        "- The line graph clearly shows a steady increase in R2 score across models.\n",
        "\n",
        "- The Dummy Regressor performs worst (nearly 0), Linear Regression shows moderate performance (0.54), Random Forest improves significantly (0.69), and XGBoost achieves the best result (0.78), indicating its strong ability of model to capture complex patterns in the data."
      ]
    },
    {
      "cell_type": "code",
      "execution_count": null,
      "id": "b7a22777",
      "metadata": {
        "execution": {
          "iopub.execute_input": "2025-07-25T13:27:01.040613Z",
          "iopub.status.busy": "2025-07-25T13:27:01.040277Z",
          "iopub.status.idle": "2025-07-25T13:27:01.253684Z",
          "shell.execute_reply": "2025-07-25T13:27:01.252708Z"
        },
        "papermill": {
          "duration": 0.249453,
          "end_time": "2025-07-25T13:27:01.255312",
          "exception": false,
          "start_time": "2025-07-25T13:27:01.005859",
          "status": "completed"
        },
        "tags": [],
        "id": "b7a22777",
        "outputId": "ca8afbc3-c773-4d47-aa65-d741cd6ef8ba"
      },
      "outputs": [
        {
          "data": {
            "image/png": "[encoded data removed]",
            "text/plain": [
              "<Figure size 800x500 with 1 Axes>"
            ]
          },
          "metadata": {},
          "output_type": "display_data"
        }
      ],
      "source": [
        "modelNames = ['Dummy Regressor', 'Linear Regression', 'Random Forest', 'XGBoost']\n",
        "r2_scores = [-0.0001, 0.4909, 0.6208, 0.7416]\n",
        "\n",
        "plt.figure(figsize=(8, 5))\n",
        "plt.plot(modelNames, r2_scores, marker='o', color='teal')\n",
        "\n",
        "plt.title('Model Comparison (R² Score)', fontsize=14)\n",
        "plt.xlabel('Models', fontsize=12)\n",
        "plt.ylabel('R² Score', fontsize=12)\n",
        "plt.xticks(rotation=90)\n",
        "\n",
        "plt.tight_layout()\n",
        "plt.show()"
      ]
    },
    {
      "cell_type": "markdown",
      "id": "c9e1b2cb",
      "metadata": {
        "papermill": {
          "duration": 0.034465,
          "end_time": "2025-07-25T13:27:01.326192",
          "exception": false,
          "start_time": "2025-07-25T13:27:01.291727",
          "status": "completed"
        },
        "tags": [],
        "id": "c9e1b2cb"
      },
      "source": [
        "# **6. Generate and Save Submission file**"
      ]
    },
    {
      "cell_type": "code",
      "execution_count": null,
      "id": "a3d2034b",
      "metadata": {
        "execution": {
          "iopub.execute_input": "2025-07-25T13:27:01.398503Z",
          "iopub.status.busy": "2025-07-25T13:27:01.398179Z",
          "iopub.status.idle": "2025-07-25T13:27:01.655971Z",
          "shell.execute_reply": "2025-07-25T13:27:01.654628Z"
        },
        "papermill": {
          "duration": 0.29573,
          "end_time": "2025-07-25T13:27:01.657683",
          "exception": false,
          "start_time": "2025-07-25T13:27:01.361953",
          "status": "completed"
        },
        "tags": [],
        "id": "a3d2034b"
      },
      "outputs": [],
      "source": [
        "def test_df_preprocessing(test_df):\n",
        "    null_percent_per_col = (test_df.isnull().sum() / test_df.shape[0]) * 100\n",
        "    columns_to_drop = null_percent_per_col[null_percent_per_col > 60].index\n",
        "    test_df.drop(columns=columns_to_drop, inplace=True, errors='ignore')\n",
        "\n",
        "    # Feature Engineering\n",
        "    test_df['userAveragePurchase'] = test_df['userId'].map(avgUserPurchase).fillna(avgUserPurchase.median())\n",
        "    test_df = newFeatures(test_df)\n",
        "\n",
        "    # Feature Dropping\n",
        "    test_df = featuresDropping(test_df)\n",
        "\n",
        "    return test_df\n",
        "\n",
        "test_df = test_df_preprocessing(test_df)"
      ]
    },
    {
      "cell_type": "code",
      "execution_count": null,
      "id": "0c07e4e6",
      "metadata": {
        "execution": {
          "iopub.execute_input": "2025-07-25T13:27:01.726478Z",
          "iopub.status.busy": "2025-07-25T13:27:01.726141Z",
          "iopub.status.idle": "2025-07-25T13:27:02.312790Z",
          "shell.execute_reply": "2025-07-25T13:27:02.311602Z"
        },
        "papermill": {
          "duration": 0.623152,
          "end_time": "2025-07-25T13:27:02.314645",
          "exception": false,
          "start_time": "2025-07-25T13:27:01.691493",
          "status": "completed"
        },
        "tags": [],
        "id": "0c07e4e6",
        "outputId": "b7453207-9e50-4ac6-db40-9e89cd0c97cc"
      },
      "outputs": [
        {
          "name": "stdout",
          "output_type": "stream",
          "text": [
            "Submission file saved as 'submission.csv'\n"
          ]
        }
      ],
      "source": [
        "test_df = test_df[X_train.columns]\n",
        "\n",
        "test_predictions = xgModel.predict(test_df)\n",
        "submission = pd.DataFrame({\"id\": range(test_predictions.shape[0]), \"purchaseValue\": test_predictions})\n",
        "submission.to_csv('submission.csv', index=False)\n",
        "\n",
        "print(\"Submission file saved as 'submission.csv'\")"
      ]
    }
  ],
  "metadata": {
    "kaggle": {
      "accelerator": "none",
      "dataSources": [
        {
          "databundleVersionId": 11895149,
          "sourceId": 99546,
          "sourceType": "competition"
        }
      ],
      "dockerImageVersionId": 31012,
      "isGpuEnabled": false,
      "isInternetEnabled": false,
      "language": "python",
      "sourceType": "notebook"
    },
    "kernelspec": {
      "display_name": "Python 3",
      "language": "python",
      "name": "python3"
    },
    "language_info": {
      "codemirror_mode": {
        "name": "ipython",
        "version": 3
      },
      "file_extension": ".py",
      "mimetype": "text/x-python",
      "name": "python",
      "nbconvert_exporter": "python",
      "pygments_lexer": "ipython3",
      "version": "3.11.11"
    },
    "papermill": {
      "default_parameters": {},
      "duration": 75.081173,
      "end_time": "2025-07-25T13:27:08.417093",
      "environment_variables": {},
      "exception": null,
      "input_path": "__notebook__.ipynb",
      "output_path": "__notebook__.ipynb",
      "parameters": {},
      "start_time": "2025-07-25T13:25:53.335920",
      "version": "2.6.0"
    },
    "colab": {
      "provenance": []
    }
  },
  "nbformat": 4,
  "nbformat_minor": 5
}